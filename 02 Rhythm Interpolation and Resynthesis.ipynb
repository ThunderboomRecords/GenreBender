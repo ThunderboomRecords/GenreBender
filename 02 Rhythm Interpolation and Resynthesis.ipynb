{
 "cells": [
  {
   "cell_type": "markdown",
   "id": "d8d8f971",
   "metadata": {},
   "source": [
    "# 02 Rhythm Interpolation and Resynthesis"
   ]
  },
  {
   "cell_type": "code",
   "execution_count": null,
   "id": "778da342",
   "metadata": {},
   "outputs": [],
   "source": [
    "import os\n",
    "import sys\n",
    "print(sys.version)\n",
    "sys.path.extend(['./COMMON_UTILS/'])"
   ]
  },
  {
   "cell_type": "code",
   "execution_count": null,
   "id": "40e637fd",
   "metadata": {},
   "outputs": [],
   "source": [
    "import warnings\n",
    "import pickle as pkl\n",
    "from importlib import reload\n",
    "\n",
    "import numpy as np\n",
    "import matplotlib.pyplot as plt\n",
    "from scipy.signal import find_peaks\n",
    "\n",
    "import torch\n",
    "import librosa\n",
    "\n",
    "from tqdm.auto import tqdm\n",
    "from IPython.display import display, Audio"
   ]
  },
  {
   "cell_type": "code",
   "execution_count": null,
   "id": "1b20b735",
   "metadata": {},
   "outputs": [],
   "source": [
    "from utils import plot_audio, play\n",
    "\n",
    "from wasserstein_transformations import SmoothTransition\n",
    "\n",
    "from tempo_align import warpAudio, quantiseAudio\n",
    "\n",
    "from drum_processor import getDownbeats\n",
    "from drum_decomposition import getDecomposition, plotDecomposition, isolateSources, getSamples"
   ]
  },
  {
   "cell_type": "code",
   "execution_count": null,
   "id": "5e5d3374",
   "metadata": {},
   "outputs": [],
   "source": [
    "warnings.simplefilter('ignore')\n",
    "\n",
    "plt.rcParams['figure.figsize'] = (15, 5)\n",
    "\n",
    "device = torch.device('cuda' if torch.cuda.is_available() else 'cpu')\n",
    "print(f'computing on {device}')"
   ]
  },
  {
   "cell_type": "code",
   "execution_count": null,
   "id": "e20227a6",
   "metadata": {},
   "outputs": [],
   "source": [
    "def findDownbeats(p):\n",
    "    try:\n",
    "        with open(os.path.join(p, 'downbeats.pkl'), 'rb') as f:\n",
    "            db = pkl.load(f)\n",
    "        print('found downbeats.pkl')\n",
    "    except FileNotFoundError:\n",
    "        print('computing downbeats')\n",
    "        db = getDownbeats(\n",
    "            os.path.join(p, 'source.wav'), \n",
    "            transition_lambda=64, \n",
    "        )\n",
    "\n",
    "        with open(os.path.join(p, 'downbeats.pkl'), 'wb') as f:\n",
    "            pkl.dump(db, f)\n",
    "            \n",
    "    return db"
   ]
  },
  {
   "cell_type": "code",
   "execution_count": null,
   "id": "f58047dd",
   "metadata": {},
   "outputs": [],
   "source": [
    "def normalise(y):\n",
    "    if y.min() < -1 or y.max() > 1:\n",
    "        y /= max(y.max(), -y.min())\n",
    "    return y"
   ]
  },
  {
   "cell_type": "markdown",
   "id": "47d88232",
   "metadata": {},
   "source": [
    "### Load Audio "
   ]
  },
  {
   "cell_type": "code",
   "execution_count": null,
   "id": "7cfd3536",
   "metadata": {},
   "outputs": [],
   "source": [
    "print('Avaliable genres:\\n')\n",
    "print('\\n'.join(os.listdir(\"./PROCESSED/\")))"
   ]
  },
  {
   "cell_type": "code",
   "execution_count": null,
   "id": "7caaa85c",
   "metadata": {},
   "outputs": [],
   "source": [
    "SRC = './PROCESSED/salsa/'\n",
    "DST = './PROCESSED/techno/'"
   ]
  },
  {
   "cell_type": "code",
   "execution_count": null,
   "id": "c3feb086",
   "metadata": {},
   "outputs": [],
   "source": [
    "y_src, sr = librosa.load(os.path.join(SRC, 'DRUMS/drums.wav'), sr=44100)\n",
    "y_dst, _ = librosa.load(os.path.join(DST, 'DRUMS/drums.wav'), sr=sr)\n",
    "y_dst_full, _ = librosa.load(os.path.join(DST, 'source.wav'), sr=sr)"
   ]
  },
  {
   "cell_type": "code",
   "execution_count": null,
   "id": "f8cb0683",
   "metadata": {},
   "outputs": [],
   "source": [
    "play(y_src, sr)\n",
    "play(y_dst, sr)"
   ]
  },
  {
   "cell_type": "code",
   "execution_count": null,
   "id": "8b951bb6",
   "metadata": {},
   "outputs": [],
   "source": [
    "stems = []\n",
    "for s in ['vocals', 'bass', 'other']:\n",
    "    y_ins, _ = librosa.load(os.path.join(DST, s.upper(), f'{s}.wav'), sr=sr)\n",
    "    stems.append(y_ins)\n",
    "y_dst_ins = np.sum(stems, axis=0)"
   ]
  },
  {
   "cell_type": "code",
   "execution_count": null,
   "id": "a923f95c",
   "metadata": {},
   "outputs": [],
   "source": [
    "play(y_dst_ins, sr)"
   ]
  },
  {
   "cell_type": "code",
   "execution_count": null,
   "id": "9cd39998",
   "metadata": {},
   "outputs": [],
   "source": [
    "tempo_src = librosa.beat.tempo(y=y_src, sr=sr)\n",
    "tempo_dst = librosa.beat.tempo(y=y_dst, sr=sr)\n",
    "print(tempo_src, tempo_dst)"
   ]
  },
  {
   "cell_type": "code",
   "execution_count": null,
   "id": "1ccb75b0",
   "metadata": {},
   "outputs": [],
   "source": [
    "db_src = findDownbeats(SRC)\n",
    "db_dst = findDownbeats(DST)"
   ]
  },
  {
   "cell_type": "code",
   "execution_count": null,
   "id": "c166289c",
   "metadata": {},
   "outputs": [],
   "source": [
    "y_dst_ins, _  = quantiseAudio(y_dst_ins, sr, db_src, hq=True)\n",
    "y_src, db_src = quantiseAudio(y_src, sr, db_src, hq=True)"
   ]
  },
  {
   "cell_type": "code",
   "execution_count": null,
   "id": "88b822c9",
   "metadata": {},
   "outputs": [],
   "source": [
    "# quantise beats\n",
    "y_dst, db_dst = quantiseAudio(y_dst, sr, db_dst, hq=True)"
   ]
  },
  {
   "cell_type": "code",
   "execution_count": null,
   "id": "efefc0b8",
   "metadata": {},
   "outputs": [],
   "source": [
    "y_src_metro = librosa.clicks(times=db_src, sr=sr, length=len(y_src))\n",
    "y_dst_metro = librosa.clicks(times=db_dst, sr=sr, length=len(y_dst))"
   ]
  },
  {
   "cell_type": "code",
   "execution_count": null,
   "id": "f5d3e15a",
   "metadata": {},
   "outputs": [],
   "source": [
    "play(y_src + y_src_metro, sr, normalize=True)\n",
    "play(y_dst + y_dst_metro, sr, normalize=True)"
   ]
  },
  {
   "cell_type": "code",
   "execution_count": null,
   "id": "bdbfa172",
   "metadata": {},
   "outputs": [],
   "source": [
    "y_src_warped, y_dst_synced, downbeats, idxs_src, idxs_dst = warpAudio(\n",
    "    y_src, y_dst, db_src, db_dst, sr\n",
    ")"
   ]
  },
  {
   "cell_type": "code",
   "execution_count": null,
   "id": "e744da6f",
   "metadata": {},
   "outputs": [],
   "source": [
    "assert y_src_warped.shape == y_dst_synced.shape"
   ]
  },
  {
   "cell_type": "code",
   "execution_count": null,
   "id": "7b84096b",
   "metadata": {},
   "outputs": [],
   "source": [
    "y_ins_segment = y_dst_ins[idxs_dst[0]: idxs_dst[1]]"
   ]
  },
  {
   "cell_type": "code",
   "execution_count": null,
   "id": "fb32c4e0",
   "metadata": {},
   "outputs": [],
   "source": [
    "play(y_src_warped, sr, autoplay=False)\n",
    "play(y_dst_synced, sr, autoplay=False)"
   ]
  },
  {
   "cell_type": "code",
   "execution_count": null,
   "id": "72813330",
   "metadata": {},
   "outputs": [],
   "source": [
    "ax = plot_audio(y_src_warped, sr)\n",
    "plot_audio(y_dst_synced, sr, ax=ax)\n",
    "for db in downbeats:\n",
    "    ax.axvline(db, color='red')"
   ]
  },
  {
   "cell_type": "code",
   "execution_count": null,
   "id": "34317bc3",
   "metadata": {},
   "outputs": [],
   "source": [
    "y_metronome = librosa.clicks(times=downbeats, sr=sr, length=len(y_dst_synced))"
   ]
  },
  {
   "cell_type": "code",
   "execution_count": null,
   "id": "c2d7ce25",
   "metadata": {},
   "outputs": [],
   "source": [
    "play(y_metronome + y_dst_synced, sr, normalize=True)"
   ]
  },
  {
   "cell_type": "markdown",
   "id": "2e7a77c0",
   "metadata": {},
   "source": [
    "### Decompose Drums"
   ]
  },
  {
   "cell_type": "code",
   "execution_count": null,
   "id": "fb252e14",
   "metadata": {},
   "outputs": [],
   "source": [
    "with open('./drum_templates.pkl', 'rb') as f:\n",
    "    templates = pkl.load(f)\n",
    "    \n",
    "kd_temp = templates['kd_temp']\n",
    "sd_temp = templates['sd_temp']\n",
    "hh_temp = templates['hh_temp']\n",
    "\n",
    "W_0 = np.stack([kd_temp, sd_temp, hh_temp], axis=1)\n",
    "W_0 = torch.from_numpy(W_0).to(device)"
   ]
  },
  {
   "cell_type": "code",
   "execution_count": null,
   "id": "ba5b6d81",
   "metadata": {},
   "outputs": [],
   "source": [
    "W_src, H_src, V_src, _, net_src = getDecomposition(\n",
    "    y_src_warped, R=3, trainable_W=True, W=W_0, device=device,\n",
    ")"
   ]
  },
  {
   "cell_type": "code",
   "execution_count": null,
   "id": "60c19ebd",
   "metadata": {},
   "outputs": [],
   "source": [
    "plotDecomposition(W_src, H_src, V_src, sr=sr)"
   ]
  },
  {
   "cell_type": "code",
   "execution_count": null,
   "id": "159f188a",
   "metadata": {},
   "outputs": [],
   "source": [
    "W_dst, H_dst, V_dst, _, net_dst = getDecomposition(y_dst_synced, R=3, W=W_0, device=device,)"
   ]
  },
  {
   "cell_type": "code",
   "execution_count": null,
   "id": "a6ce2434",
   "metadata": {},
   "outputs": [],
   "source": [
    "plotDecomposition(W_dst, H_dst, V_dst, sr=sr)"
   ]
  },
  {
   "cell_type": "code",
   "execution_count": null,
   "id": "d2308229",
   "metadata": {},
   "outputs": [],
   "source": [
    "ys = isolateSources(net_dst, phi=net_dst.phi, device=device)\n",
    "for y in ys:\n",
    "    play(y, sr, normalize=True)"
   ]
  },
  {
   "cell_type": "code",
   "execution_count": null,
   "id": "a0ca6461",
   "metadata": {},
   "outputs": [],
   "source": [
    "src_samples = []\n",
    "for i in range(3):\n",
    "    samples = getSamples(net_src, i, sr=sr)\n",
    "    sample = samples[np.argmax(list(map(len, samples)))]\n",
    "    src_samples.append(sample)"
   ]
  },
  {
   "cell_type": "code",
   "execution_count": null,
   "id": "5eaa90f4",
   "metadata": {},
   "outputs": [],
   "source": [
    "dst_samples = []\n",
    "for i in range(3):\n",
    "    samples = getSamples(net_dst, i, sr=sr)\n",
    "    sample = samples[np.argmax(list(map(len, samples)))]\n",
    "    dst_samples.append(sample)"
   ]
  },
  {
   "cell_type": "code",
   "execution_count": null,
   "id": "22055c24",
   "metadata": {},
   "outputs": [],
   "source": [
    "for s in dst_samples:\n",
    "    play(s, sr)"
   ]
  },
  {
   "cell_type": "code",
   "execution_count": null,
   "id": "98177f42",
   "metadata": {},
   "outputs": [],
   "source": [
    "H_src.shape"
   ]
  },
  {
   "cell_type": "code",
   "execution_count": null,
   "id": "e1873162",
   "metadata": {},
   "outputs": [],
   "source": [
    "peaks, _ = find_peaks(np.insert(H_dst[2], 0, 0), prominence=3)\n",
    "peaks -= 1"
   ]
  },
  {
   "cell_type": "code",
   "execution_count": null,
   "id": "bf01b684",
   "metadata": {},
   "outputs": [],
   "source": [
    "plt.plot(H_dst[2])\n",
    "plt.scatter(peaks, H_dst[2][peaks], c='red');"
   ]
  },
  {
   "cell_type": "code",
   "execution_count": null,
   "id": "4cf25a05",
   "metadata": {},
   "outputs": [],
   "source": [
    "def reconstructDrums(H, samples, length):\n",
    "    if len(H) != len(samples):\n",
    "        raise ValueError(\n",
    "            f'H shape ({H.shape}) does not match number of samples ({len(samples)})'\n",
    "        )\n",
    "    \n",
    "    y_rec = np.zeros(length)\n",
    "    \n",
    "    for j, sample in enumerate(samples):\n",
    "        act = H[j]\n",
    "        peaks, _ = find_peaks(np.insert(act, 0, 0), prominence=3)\n",
    "        peaks -= 1\n",
    "        time = librosa.frames_to_samples(peaks)\n",
    "        \n",
    "        for i, p in enumerate(peaks):\n",
    "            amp = act[p]# / act.max()\n",
    "            sl = min(len(sample), length - time[i])\n",
    "            \n",
    "            y_rec[time[i]:time[i]+sl] += amp*sample[:sl]\n",
    "            \n",
    "    y_rec = normalise(y_rec)\n",
    "            \n",
    "    return y_rec"
   ]
  },
  {
   "cell_type": "code",
   "execution_count": null,
   "id": "eba25c1f",
   "metadata": {},
   "outputs": [],
   "source": [
    "y_src_rec = reconstructDrums(H_src, src_samples, len(y_src_warped))\n",
    "y_dst_rec = reconstructDrums(H_dst, dst_samples, len(y_dst_synced))"
   ]
  },
  {
   "cell_type": "code",
   "execution_count": null,
   "id": "168baa0d",
   "metadata": {},
   "outputs": [],
   "source": [
    "play(y_src_warped, sr)\n",
    "play(y_src_rec, sr)\n",
    "print('---')\n",
    "play(y_dst_synced, sr)\n",
    "play(y_dst_rec, sr)"
   ]
  },
  {
   "cell_type": "code",
   "execution_count": null,
   "id": "0945307c",
   "metadata": {},
   "outputs": [],
   "source": [
    "plot_audio(y_src_rec);"
   ]
  },
  {
   "cell_type": "markdown",
   "id": "33c02ef5",
   "metadata": {},
   "source": [
    "### Morph Activations "
   ]
  },
  {
   "cell_type": "markdown",
   "id": "d76ecb6a",
   "metadata": {},
   "source": [
    "#### Full Replacement"
   ]
  },
  {
   "cell_type": "code",
   "execution_count": null,
   "id": "4244d761",
   "metadata": {},
   "outputs": [],
   "source": [
    "H_hat = torch.from_numpy(H_src).to(device)\n",
    "for i in range(H_src.shape[0]):\n",
    "    scale = net_dst.H[0, i].max() / H_src[i].max()\n",
    "    H_hat[i] *= scale"
   ]
  },
  {
   "cell_type": "code",
   "execution_count": null,
   "id": "3fe4ffde",
   "metadata": {},
   "outputs": [],
   "source": [
    "V_hat = net_dst.reconstruct(\n",
    "    net_dst.W, H_hat.unsqueeze(0)\n",
    ").detach().cpu().squeeze().numpy()"
   ]
  },
  {
   "cell_type": "code",
   "execution_count": null,
   "id": "9f7ea87c",
   "metadata": {},
   "outputs": [],
   "source": [
    "y_r = librosa.griffinlim(V_hat)"
   ]
  },
  {
   "cell_type": "code",
   "execution_count": null,
   "id": "d82a880b",
   "metadata": {},
   "outputs": [],
   "source": [
    "y_r_rec = reconstructDrums(H_src, dst_samples, len(y_dst_rec))"
   ]
  },
  {
   "cell_type": "code",
   "execution_count": null,
   "id": "98cf927e",
   "metadata": {},
   "outputs": [],
   "source": [
    "# y_final = np.sum([y_r, y_ins_segment[:len(y_r)]], axis=0)\n",
    "y_final = y_r + y_ins_segment[:len(y_r)]\n",
    "y_final_rec = y_r_rec + y_ins_segment[:len(y_r_rec)]"
   ]
  },
  {
   "cell_type": "code",
   "execution_count": null,
   "id": "42922b9b",
   "metadata": {},
   "outputs": [],
   "source": [
    "print('Convolution reconstruction:')\n",
    "play(y_r, sr, normalize=True)\n",
    "play(y_final, sr, normalize=True)\n",
    "\n",
    "print('Sample reconstruction:')\n",
    "play(y_r_rec, sr)\n",
    "play(y_final_rec, sr, normalize=True)"
   ]
  },
  {
   "cell_type": "markdown",
   "id": "a182e3e5",
   "metadata": {},
   "source": [
    "#### Threshold Transition "
   ]
  },
  {
   "cell_type": "code",
   "execution_count": null,
   "id": "eedad0a4",
   "metadata": {},
   "outputs": [],
   "source": [
    "# sms = [SmoothTransition(H_dst[i], H_src[i]) for i in range(3)]\n",
    "sm = SmoothTransition(H_dst, H_src)"
   ]
  },
  {
   "cell_type": "code",
   "execution_count": null,
   "id": "48f6aa6f",
   "metadata": {},
   "outputs": [],
   "source": [
    "y_transformed = []\n",
    "weights = np.linspace(0, 1, 5)\n",
    "\n",
    "for t in tqdm(weights):\n",
    "#     H_w = torch.from_numpy(sm(t)).type(torch.float)\n",
    "    H_w = sm(t)\n",
    "    \n",
    "    for i in range(len(H_dst)):\n",
    "        H_w[i] *= (H_dst[i].max() / H_w[i].max())\n",
    "    \n",
    "#     V_w = net_dst.reconstruct(\n",
    "#         net_dst.W, H_w.unsqueeze(0)\n",
    "#     ).detach().cpu().squeeze().numpy()\n",
    "    \n",
    "#     y_w = librosa.griffinlim(V_w)\n",
    "    y_w = reconstructDrums(H_w, src_samples, len(y_dst_synced))\n",
    "    y_w_final = y_w + np.copy(y_ins_segment[:len(y_w)])\n",
    "    \n",
    "    y_w_final = normalise(y_w_final)\n",
    "    y_transformed.append(y_w_final)"
   ]
  },
  {
   "cell_type": "code",
   "execution_count": null,
   "id": "5f581db1",
   "metadata": {},
   "outputs": [],
   "source": [
    "for i, yt in enumerate(y_transformed):\n",
    "    print(f'SRC transformed {weights[i]:.0%}')\n",
    "    play(yt, sr)"
   ]
  },
  {
   "cell_type": "markdown",
   "id": "411ed067",
   "metadata": {},
   "source": [
    "#### Transition "
   ]
  },
  {
   "cell_type": "code",
   "execution_count": null,
   "id": "0882b131",
   "metadata": {},
   "outputs": [],
   "source": [
    "db_frames = librosa.time_to_frames(downbeats, sr=sr)[1:]\n",
    "db_samples = librosa.time_to_samples(downbeats, sr=sr)[1:]"
   ]
  },
  {
   "cell_type": "code",
   "execution_count": null,
   "id": "5f8670b6",
   "metadata": {},
   "outputs": [],
   "source": [
    "H_src_bars = np.split(H_src, db_frames, axis=1)   # (bar_num, ins, frame)\n",
    "H_dst_bars = np.split(H_dst, db_frames, axis=1)   # (bar_num, ins, frame)\n",
    "y_src_bars = np.split(y_src_warped, db_samples)   # (bar_num, samples)\n",
    "y_dst_bars = np.split(y_dst_synced, db_samples)   # (bar_num, samples)"
   ]
  },
  {
   "cell_type": "code",
   "execution_count": null,
   "id": "62b8498e",
   "metadata": {},
   "outputs": [],
   "source": [
    "idx = 0\n",
    "H_start = H_dst_bars[idx]\n",
    "H_end = H_src_bars[idx]"
   ]
  },
  {
   "cell_type": "code",
   "execution_count": null,
   "id": "c856e687",
   "metadata": {},
   "outputs": [],
   "source": [
    "sm = SmoothTransition(\n",
    "    H_start, \n",
    "    H_end, \n",
    "    H_dst.max(axis=1).reshape((-1, 1)), \n",
    "    H_src.max(axis=1).reshape((-1, 1))\n",
    ")"
   ]
  },
  {
   "cell_type": "code",
   "execution_count": null,
   "id": "d0663beb",
   "metadata": {},
   "outputs": [],
   "source": [
    "play(y_src_bars[idx], sr)\n",
    "play(y_dst_bars[idx], sr)"
   ]
  },
  {
   "cell_type": "code",
   "execution_count": null,
   "id": "21c4903c",
   "metadata": {},
   "outputs": [],
   "source": [
    "transition = []\n",
    "weights = np.linspace(0, 1, 7)\n",
    "for t in weights:\n",
    "    H_w = sm(t, power=2, score_threshold=0.1)\n",
    "    transition.append(H_w)\n",
    "H_t = np.concatenate(transition, axis=1)"
   ]
  },
  {
   "cell_type": "code",
   "execution_count": null,
   "id": "61ded3e2",
   "metadata": {},
   "outputs": [],
   "source": [
    "plt.plot(H_t[2]);\n",
    "plt.plot(H_start[2], lw=1, alpha=0.5)\n",
    "for db in db_frames[:len(transition)]:\n",
    "    plt.axvline(db, c='k', ls=':')"
   ]
  },
  {
   "cell_type": "code",
   "execution_count": null,
   "id": "633c478a",
   "metadata": {},
   "outputs": [],
   "source": [
    "H_t.unsqueeze(0).shape"
   ]
  },
  {
   "cell_type": "code",
   "execution_count": null,
   "id": "3eb628cd",
   "metadata": {},
   "outputs": [],
   "source": [
    "H"
   ]
  },
  {
   "cell_type": "code",
   "execution_count": null,
   "id": "0a16ea0b",
   "metadata": {},
   "outputs": [],
   "source": [
    "np.sum([np.ones(2), np.ones(2)], axis=0)"
   ]
  },
  {
   "cell_type": "code",
   "execution_count": null,
   "id": "d5dcbaf6",
   "metadata": {},
   "outputs": [],
   "source": [
    "def reconstructCombined(H, net, device='cpu'):\n",
    "    ys = []\n",
    "    for c in range(H.shape[0]):\n",
    "        H_c = torch.zeros_like(H).to(device)\n",
    "        H_c[c, :] = H_t[c, :]\n",
    "        V_c = net.reconstruct(\n",
    "                net.W, H_c.unsqueeze(0)\n",
    "            ).detach().cpu().squeeze().numpy()\n",
    "\n",
    "        ys.append(librosa.griffinlim(V_c, momentum=0.99))\n",
    "\n",
    "    return np.sum(ys, axis=0)"
   ]
  },
  {
   "cell_type": "code",
   "execution_count": null,
   "id": "70ec159e",
   "metadata": {},
   "outputs": [],
   "source": [
    "H_t = torch.tensor(H_t).type(torch.float).to(device)\n",
    "\n",
    "y_transitioning = reconstructCombined(H_t, net_dst, device)"
   ]
  },
  {
   "cell_type": "code",
   "execution_count": null,
   "id": "2926b3ae",
   "metadata": {},
   "outputs": [],
   "source": [
    "V_t = net_dst.reconstruct(\n",
    "    net_dst.W, H_t.unsqueeze(0)\n",
    ").detach().cpu().squeeze().numpy()\n",
    "y_transitioning2 = librosa.griffinlim(V_t, momentum=0.99)"
   ]
  },
  {
   "cell_type": "code",
   "execution_count": null,
   "id": "1a7c53a2",
   "metadata": {},
   "outputs": [],
   "source": [
    "y_transitioning3 = reconstructDrums(\n",
    "    H_t.cpu().numpy(), dst_samples, librosa.frames_to_samples(H_t.shape[1])\n",
    ")"
   ]
  },
  {
   "cell_type": "code",
   "execution_count": null,
   "id": "8119e27b",
   "metadata": {},
   "outputs": [],
   "source": [
    "transition_beeps = librosa.clicks(\n",
    "    times=downbeats, sr=sr, length=len(y_transitioning)\n",
    ") * 0.25"
   ]
  },
  {
   "cell_type": "code",
   "execution_count": null,
   "id": "569d7341",
   "metadata": {},
   "outputs": [],
   "source": [
    "play(y_transitioning + transition_beeps, sr, normalize=True)"
   ]
  },
  {
   "cell_type": "code",
   "execution_count": null,
   "id": "31139fee",
   "metadata": {},
   "outputs": [],
   "source": [
    "play(y_transitioning2 + transition_beeps, sr, normalize=True)"
   ]
  },
  {
   "cell_type": "code",
   "execution_count": null,
   "id": "5e3f85ad",
   "metadata": {},
   "outputs": [],
   "source": [
    "play(y_transitioning3, sr, normalize=True)"
   ]
  },
  {
   "cell_type": "markdown",
   "id": "905afe5f",
   "metadata": {},
   "source": [
    "## Full Track Transition "
   ]
  },
  {
   "cell_type": "code",
   "execution_count": null,
   "id": "6e2e0985",
   "metadata": {},
   "outputs": [],
   "source": [
    "H_transition_full = torch.from_numpy(np.concatenate([\n",
    "#     H_start,\n",
    "    H_start,\n",
    "    H_start,\n",
    "    H_t.cpu().numpy(),\n",
    "    H_end,\n",
    "    H_end,\n",
    "#     H_end,\n",
    "#     H_end,\n",
    "#     H_end,\n",
    "], axis=1)).type(torch.float)"
   ]
  },
  {
   "cell_type": "code",
   "execution_count": null,
   "id": "6037b778",
   "metadata": {},
   "outputs": [],
   "source": [
    "# V_transition_full = net_src.reconstruct(\n",
    "#         net_src.W, H_transition_full.unsqueeze(0).to(device)\n",
    "#     ).detach().cpu().squeeze().numpy()\n",
    "# y_transitioning_full = normalise(librosa.griffinlim(V_transition_full))\n",
    "y_transitioning_full = reconstructDrums(\n",
    "    H_transition_full.numpy(), dst_samples, librosa.frames_to_samples(H_transition_full.shape[1])\n",
    ")"
   ]
  },
  {
   "cell_type": "code",
   "execution_count": null,
   "id": "c8c4e67e",
   "metadata": {},
   "outputs": [],
   "source": [
    "plot_audio(y_transitioning_full, sr)\n",
    "play(y_transitioning_full, sr)"
   ]
  },
  {
   "cell_type": "code",
   "execution_count": null,
   "id": "75b05638",
   "metadata": {},
   "outputs": [],
   "source": [
    "y_ins_synced = y_dst_ins[idxs_dst[0]:]"
   ]
  },
  {
   "cell_type": "code",
   "execution_count": null,
   "id": "4e79f7b9",
   "metadata": {},
   "outputs": [],
   "source": [
    "full_length = min(len(y_ins_synced), len(y_transitioning_full))\n",
    "y_full_transition = y_ins_synced[:full_length] + y_transitioning_full[:full_length]\n",
    "y_full_transition = normalise(y_full_transition)"
   ]
  },
  {
   "cell_type": "code",
   "execution_count": null,
   "id": "ac10bf72",
   "metadata": {},
   "outputs": [],
   "source": [
    "play(y_full_transition, sr)"
   ]
  },
  {
   "cell_type": "code",
   "execution_count": null,
   "id": "f6ac771a",
   "metadata": {},
   "outputs": [],
   "source": []
  },
  {
   "cell_type": "code",
   "execution_count": null,
   "id": "beb3ef3c",
   "metadata": {},
   "outputs": [],
   "source": []
  },
  {
   "cell_type": "code",
   "execution_count": null,
   "id": "6f655142",
   "metadata": {},
   "outputs": [],
   "source": []
  },
  {
   "cell_type": "code",
   "execution_count": null,
   "id": "6987b38b",
   "metadata": {},
   "outputs": [],
   "source": []
  },
  {
   "cell_type": "markdown",
   "id": "7189d687",
   "metadata": {},
   "source": [
    "#### Percent Transformed "
   ]
  },
  {
   "cell_type": "code",
   "execution_count": null,
   "id": "940ff05c",
   "metadata": {},
   "outputs": [],
   "source": [
    "import wasserstein_transformations\n",
    "reload(wasserstein_transformations)\n",
    "from wasserstein_transformations import SmoothTransform, SmoothTransition"
   ]
  },
  {
   "cell_type": "code",
   "execution_count": null,
   "id": "5c021f82",
   "metadata": {},
   "outputs": [],
   "source": [
    "sm = SmoothTransform(steps=5)"
   ]
  },
  {
   "cell_type": "code",
   "execution_count": null,
   "id": "302c1769",
   "metadata": {},
   "outputs": [],
   "source": [
    "sm.weights"
   ]
  },
  {
   "cell_type": "code",
   "execution_count": null,
   "id": "ebfa8dea",
   "metadata": {},
   "outputs": [],
   "source": [
    "transformations = []\n",
    "for i in range(len(H_dst)):\n",
    "    ps, qs = H_src[i], H_dst[i]\n",
    "    ps, qs = ps/ps.max(), qs/qs.max()\n",
    "    \n",
    "    trans = sm.transform(ps, qs)\n",
    "    transformations.append(trans)"
   ]
  },
  {
   "cell_type": "code",
   "execution_count": null,
   "id": "5c4c01e2",
   "metadata": {},
   "outputs": [],
   "source": [
    "sm.plot_transform(transformations[1])\n",
    "plt.show()"
   ]
  },
  {
   "cell_type": "code",
   "execution_count": null,
   "id": "d169ecbf",
   "metadata": {},
   "outputs": [],
   "source": [
    "y_transformed = []\n",
    "\n",
    "for w in tqdm(range(len(transformations[0]))):\n",
    "    H_w = torch.from_numpy(\n",
    "        np.stack(\n",
    "            [transformations[i][w] for i in range(len(transformations))]\n",
    "        )\n",
    "    ).type(torch.float)\n",
    "    \n",
    "    # rescale activations from probability dist\n",
    "    for i in range(len(H_dst)):\n",
    "        H_w[i] *= (H_dst[i].max() / H_w[i].max())\n",
    "\n",
    "    V_w = net_dst.reconstruct(\n",
    "        net_dst.W, H_w.unsqueeze(0)\n",
    "    ).detach().cpu().squeeze().numpy()\n",
    "\n",
    "    y_w = librosa.griffinlim(V_w)\n",
    "    y_w_final = y_w + np.copy(y_ins_segment[:len(y_w)])\n",
    "    y_transformed.append(y_w_final)"
   ]
  },
  {
   "cell_type": "code",
   "execution_count": null,
   "id": "16df679a",
   "metadata": {},
   "outputs": [],
   "source": [
    "for i, yt in enumerate(y_transformed):\n",
    "    print(f'SRC transformed {sm.weights[i]:.0%}')\n",
    "    play(yt, sr)"
   ]
  }
 ],
 "metadata": {
  "kernelspec": {
   "display_name": "Python 3 (ipykernel)",
   "language": "python",
   "name": "python3"
  },
  "language_info": {
   "codemirror_mode": {
    "name": "ipython",
    "version": 3
   },
   "file_extension": ".py",
   "mimetype": "text/x-python",
   "name": "python",
   "nbconvert_exporter": "python",
   "pygments_lexer": "ipython3",
   "version": "3.9.10"
  }
 },
 "nbformat": 4,
 "nbformat_minor": 5
}
