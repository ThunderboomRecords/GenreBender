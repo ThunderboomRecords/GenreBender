{
 "cells": [
  {
   "cell_type": "markdown",
   "id": "56837300",
   "metadata": {},
   "source": [
    "# Initial Tests"
   ]
  },
  {
   "cell_type": "code",
   "execution_count": null,
   "id": "a4a616f7",
   "metadata": {},
   "outputs": [],
   "source": [
    "import os\n",
    "import sys\n",
    "print(sys.version)\n",
    "sys.path.extend(['./COMMON_UTILS/'])"
   ]
  },
  {
   "cell_type": "code",
   "execution_count": null,
   "id": "5b93362f",
   "metadata": {},
   "outputs": [],
   "source": [
    "import pickle as pkl\n",
    "\n",
    "import numpy as np\n",
    "from scipy.interpolate import interp1d\n",
    "import matplotlib.pyplot as plt\n",
    "\n",
    "import torch\n",
    "import librosa\n",
    "\n",
    "from IPython.display import display, Audio"
   ]
  },
  {
   "cell_type": "code",
   "execution_count": null,
   "id": "a0c508af",
   "metadata": {},
   "outputs": [],
   "source": [
    "from drum_processor import getDownbeats\n",
    "from drum_decomposition import getDecomposition, plotDecomposition, isolateSources"
   ]
  },
  {
   "cell_type": "code",
   "execution_count": null,
   "id": "a8073ee8",
   "metadata": {},
   "outputs": [],
   "source": [
    "plt.rcParams['figure.figsize'] = (15, 5)"
   ]
  },
  {
   "cell_type": "code",
   "execution_count": null,
   "id": "0f0efae0",
   "metadata": {},
   "outputs": [],
   "source": [
    "device = torch.device('cuda' if torch.cuda.is_available() else 'cpu')\n",
    "print(f'computing on {device}')"
   ]
  },
  {
   "cell_type": "markdown",
   "id": "d0e507ce",
   "metadata": {},
   "source": [
    "## Load Audio"
   ]
  },
  {
   "cell_type": "code",
   "execution_count": null,
   "id": "088fb168",
   "metadata": {},
   "outputs": [],
   "source": [
    "SRC = './PROCESSED/dem_bow'\n",
    "# DST = './PROCESSED/neil_young'\n",
    "# DST = './PROCESSED/stereofuse_casino_04'\n",
    "DST = './PROCESSED/gary_numan_electric'\n",
    "\n",
    "# DST = './PROCESSED/stereofuse_casino_04'\n",
    "# SRC = './PROCESSED/astrud_gilberto'"
   ]
  },
  {
   "cell_type": "code",
   "execution_count": null,
   "id": "857959de",
   "metadata": {},
   "outputs": [],
   "source": [
    "y_src, sr = librosa.load(os.path.join(SRC, 'DRUMS/drums.wav'), sr=44100)\n",
    "y_dst, _ = librosa.load(os.path.join(DST, 'DRUMS/drums.wav'), sr=sr)\n",
    "y_dst_full, _ = librosa.load(os.path.join(DST, 'source.wav'), sr=sr)"
   ]
  },
  {
   "cell_type": "code",
   "execution_count": null,
   "id": "eeaa2196",
   "metadata": {},
   "outputs": [],
   "source": [
    "stems = []\n",
    "for s in ['vocals', 'bass', 'other']:\n",
    "    y_ins, _ = librosa.load(os.path.join(DST, s.upper(), f'{s}.wav'), sr=sr)\n",
    "    stems.append(y_ins)\n",
    "y_dst_ins = np.sum(stems, axis=0)"
   ]
  },
  {
   "cell_type": "code",
   "execution_count": null,
   "id": "f2efaa2c",
   "metadata": {},
   "outputs": [],
   "source": [
    "display(Audio(y_dst_ins, rate=sr))"
   ]
  },
  {
   "cell_type": "code",
   "execution_count": null,
   "id": "1469d900",
   "metadata": {},
   "outputs": [],
   "source": [
    "tempo_src = librosa.beat.tempo(y=y_src, sr=sr)\n",
    "tempo_dst = librosa.beat.tempo(y=y_dst, sr=sr)\n",
    "print(tempo_src, tempo_dst)"
   ]
  },
  {
   "cell_type": "code",
   "execution_count": null,
   "id": "980b77bc",
   "metadata": {},
   "outputs": [],
   "source": [
    "db_src = getDownbeats(\n",
    "    os.path.join(SRC, 'source.wav'), \n",
    "    transition_lambda=64, \n",
    "    min_bpm=tempo_src*0.8,\n",
    "    max_bpm=tempo_src*1.2\n",
    ")"
   ]
  },
  {
   "cell_type": "code",
   "execution_count": null,
   "id": "31917001",
   "metadata": {},
   "outputs": [],
   "source": [
    "db_dst = getDownbeats(\n",
    "    os.path.join(DST, 'source.wav'), \n",
    "    transition_lambda=64, \n",
    "    min_bpm=tempo_dst*0.8, \n",
    "    max_bpm=tempo_dst*1.2\n",
    ")"
   ]
  },
  {
   "cell_type": "code",
   "execution_count": null,
   "id": "bce4b397",
   "metadata": {},
   "outputs": [],
   "source": [
    "display(Audio(y_src, rate=sr))\n",
    "display(Audio(y_dst, rate=sr))"
   ]
  },
  {
   "cell_type": "code",
   "execution_count": null,
   "id": "1500267a",
   "metadata": {},
   "outputs": [],
   "source": [
    "plt.plot(librosa.samples_to_time(np.arange(len(y_src)), sr=sr), y_src)\n",
    "plt.vlines(db_src, -0.6, 0.6, color='red');"
   ]
  },
  {
   "cell_type": "code",
   "execution_count": null,
   "id": "71c9b3f0",
   "metadata": {},
   "outputs": [],
   "source": [
    "plt.plot(librosa.samples_to_time(np.arange(len(y_dst)), sr=sr), y_dst)\n",
    "plt.vlines(db_dst, -0.6, 0.6, color='red');"
   ]
  },
  {
   "cell_type": "markdown",
   "id": "06ab1305",
   "metadata": {},
   "source": [
    "## Align Downbeats "
   ]
  },
  {
   "cell_type": "code",
   "execution_count": null,
   "id": "2d759ba2",
   "metadata": {},
   "outputs": [],
   "source": [
    "num_bars = min(len(db_dst), len(db_src))"
   ]
  },
  {
   "cell_type": "code",
   "execution_count": null,
   "id": "b30d787e",
   "metadata": {},
   "outputs": [],
   "source": [
    "idxs_src = librosa.time_to_samples((db_src[0], db_src[num_bars-1]), sr=sr)"
   ]
  },
  {
   "cell_type": "code",
   "execution_count": null,
   "id": "4f3ca574",
   "metadata": {},
   "outputs": [],
   "source": [
    "mapping = interp1d(\n",
    "    x=np.linspace(0, 1, idxs_src[1]-idxs_src[0]),\n",
    "    y=y_src[idxs_src[0]:idxs_src[1]],\n",
    "    assume_sorted=True\n",
    ")"
   ]
  },
  {
   "cell_type": "code",
   "execution_count": null,
   "id": "bfd717de",
   "metadata": {},
   "outputs": [],
   "source": [
    "idxs_dst = librosa.time_to_samples((db_dst[0], db_dst[num_bars-1]), sr=sr)"
   ]
  },
  {
   "cell_type": "code",
   "execution_count": null,
   "id": "5bd61da9",
   "metadata": {},
   "outputs": [],
   "source": [
    "y_src_warped = mapping(np.linspace(0, 1, idxs_dst[1] - idxs_dst[0]))"
   ]
  },
  {
   "cell_type": "code",
   "execution_count": null,
   "id": "a78782ae",
   "metadata": {},
   "outputs": [],
   "source": [
    "plt.plot(y_src_warped, label='transformed', alpha=0.5)\n",
    "plt.plot(y_dst[idxs_dst[0]:idxs_dst[1]], label='dest', alpha=0.5)\n",
    "plt.legend();"
   ]
  },
  {
   "cell_type": "code",
   "execution_count": null,
   "id": "6b6f6cad",
   "metadata": {},
   "outputs": [],
   "source": [
    "display(Audio(y_src_warped + y_dst[idxs_dst[0]:idxs_dst[1]], rate=sr))"
   ]
  },
  {
   "cell_type": "code",
   "execution_count": null,
   "id": "10afba05",
   "metadata": {},
   "outputs": [],
   "source": [
    "y_dst_segment = y_dst[idxs_dst[0]:idxs_dst[1]]\n",
    "y_ins_segment = y_dst_ins[idxs_dst[0]:idxs_dst[1]]\n",
    "y_dst_full_segment = y_dst_full[idxs_dst[0]:idxs_dst[1]]"
   ]
  },
  {
   "cell_type": "markdown",
   "id": "84b8b896",
   "metadata": {},
   "source": [
    "## Decompose Drums "
   ]
  },
  {
   "cell_type": "code",
   "execution_count": null,
   "id": "3899a9f0",
   "metadata": {},
   "outputs": [],
   "source": [
    "with open('./drum_templates.pkl', 'rb') as f:\n",
    "    templates = pkl.load(f)"
   ]
  },
  {
   "cell_type": "code",
   "execution_count": null,
   "id": "1e1a2a6e",
   "metadata": {},
   "outputs": [],
   "source": [
    "kd_temp = templates['kd_temp']\n",
    "sd_temp = templates['sd_temp']\n",
    "hh_temp = templates['hh_temp']"
   ]
  },
  {
   "cell_type": "code",
   "execution_count": null,
   "id": "69958881",
   "metadata": {},
   "outputs": [],
   "source": [
    "W_0 = np.stack([kd_temp, sd_temp, hh_temp], axis=1)\n",
    "W_0 = torch.from_numpy(W_0).to(device)"
   ]
  },
  {
   "cell_type": "code",
   "execution_count": null,
   "id": "541c7d7d",
   "metadata": {},
   "outputs": [],
   "source": [
    "W_src, H_src, V_src, _, net_src = getDecomposition(y_src_warped, R=3, W=W_0, trainable_W=True)"
   ]
  },
  {
   "cell_type": "code",
   "execution_count": null,
   "id": "e01fd4c5",
   "metadata": {},
   "outputs": [],
   "source": [
    "plotDecomposition(W_src, H_src, V_src)"
   ]
  },
  {
   "cell_type": "code",
   "execution_count": null,
   "id": "69a2c89f",
   "metadata": {},
   "outputs": [],
   "source": [
    "y_s = isolateSources(net_src)"
   ]
  },
  {
   "cell_type": "code",
   "execution_count": null,
   "id": "ffd41383",
   "metadata": {},
   "outputs": [],
   "source": [
    "for y in y_s:\n",
    "    display(Audio(y, rate=sr))"
   ]
  },
  {
   "cell_type": "code",
   "execution_count": null,
   "id": "917ae5e7",
   "metadata": {},
   "outputs": [],
   "source": [
    "W_dst, H_dst, V_dst, _, net_dst = getDecomposition(y_dst_segment, R=3, W=W_0)"
   ]
  },
  {
   "cell_type": "code",
   "execution_count": null,
   "id": "a735d82f",
   "metadata": {},
   "outputs": [],
   "source": [
    "plotDecomposition(W_dst, H_dst, V_dst)"
   ]
  },
  {
   "cell_type": "code",
   "execution_count": null,
   "id": "4e2feb78",
   "metadata": {},
   "outputs": [],
   "source": [
    "y_d = isolateSources(net_dst)"
   ]
  },
  {
   "cell_type": "code",
   "execution_count": null,
   "id": "2381c0fb",
   "metadata": {},
   "outputs": [],
   "source": [
    "for y in y_d:\n",
    "    display(Audio(y, rate=sr))"
   ]
  },
  {
   "cell_type": "markdown",
   "id": "84861d0e",
   "metadata": {},
   "source": [
    "## Apply New Rhythm "
   ]
  },
  {
   "cell_type": "code",
   "execution_count": null,
   "id": "b32f1531",
   "metadata": {},
   "outputs": [],
   "source": [
    "H_hat = torch.from_numpy(H_src)\n",
    "for i in range(H_src.shape[0]):\n",
    "    scale = net_dst.H[0, i].max() / H_src[i].max()\n",
    "    H_hat[i] *= scale"
   ]
  },
  {
   "cell_type": "code",
   "execution_count": null,
   "id": "ff16183c",
   "metadata": {},
   "outputs": [],
   "source": [
    "V_hat = net_dst.reconstruct(net_dst.W, H_hat.unsqueeze(0)).detach().cpu().squeeze().numpy()"
   ]
  },
  {
   "cell_type": "code",
   "execution_count": null,
   "id": "7173907c",
   "metadata": {},
   "outputs": [],
   "source": [
    "y_r = librosa.griffinlim(V_hat)"
   ]
  },
  {
   "cell_type": "code",
   "execution_count": null,
   "id": "d9cfdb44",
   "metadata": {},
   "outputs": [],
   "source": [
    "display(Audio(y_r, rate=sr))"
   ]
  },
  {
   "cell_type": "markdown",
   "id": "3006bf4d",
   "metadata": {},
   "source": [
    "## Combine "
   ]
  },
  {
   "cell_type": "code",
   "execution_count": null,
   "id": "59527405",
   "metadata": {},
   "outputs": [],
   "source": [
    "y_ins_segment.shape"
   ]
  },
  {
   "cell_type": "code",
   "execution_count": null,
   "id": "e0890dd1",
   "metadata": {},
   "outputs": [],
   "source": [
    "y_r.shape"
   ]
  },
  {
   "cell_type": "code",
   "execution_count": null,
   "id": "5a95930d",
   "metadata": {},
   "outputs": [],
   "source": [
    "l = min(len(y_r), len(y_ins_segment))"
   ]
  },
  {
   "cell_type": "code",
   "execution_count": null,
   "id": "68d40f39",
   "metadata": {},
   "outputs": [],
   "source": [
    "y_final = np.sum([y_r[:l], y_ins_segment[:l]], axis=0)"
   ]
  },
  {
   "cell_type": "code",
   "execution_count": null,
   "id": "aac46bb2",
   "metadata": {},
   "outputs": [],
   "source": [
    "plt.plot(y_final);"
   ]
  },
  {
   "cell_type": "code",
   "execution_count": null,
   "id": "9cb4f6e2",
   "metadata": {},
   "outputs": [],
   "source": [
    "print('original')\n",
    "display(Audio(y_dst_full_segment, rate=sr))\n",
    "print('transformed')\n",
    "display(Audio(y_final, rate=sr))"
   ]
  },
  {
   "cell_type": "markdown",
   "id": "9d1e21b7",
   "metadata": {},
   "source": [
    "## Next Steps\n",
    "\n",
    "- Data: audio data from Free Music Archive to collect rhythm data and genre labels\n",
    "- Improve pipeline robustness\n",
    "    - fix beat detection\n",
    "    - detect absent drum elements\n",
    "    - clean activations\n",
    "- Learn activation vector transformations\n",
    "    - Theorise and implement method to (smoothly) interpolate from one rhythm to another in a meaningful way\n",
    "- Embed rhythm data to map out space of all genres (with respect to rhythm)"
   ]
  },
  {
   "cell_type": "code",
   "execution_count": null,
   "id": "8bfce522",
   "metadata": {},
   "outputs": [],
   "source": []
  },
  {
   "cell_type": "code",
   "execution_count": null,
   "id": "b9a98b81",
   "metadata": {},
   "outputs": [],
   "source": []
  },
  {
   "cell_type": "code",
   "execution_count": null,
   "id": "c57b6cf3",
   "metadata": {},
   "outputs": [],
   "source": []
  },
  {
   "cell_type": "code",
   "execution_count": null,
   "id": "5fa9bf94",
   "metadata": {},
   "outputs": [],
   "source": [
    "with open(\"activations.pkl\", \"wb\") as f:\n",
    "    pkl.dump((H_src, H_dst), f)"
   ]
  },
  {
   "cell_type": "code",
   "execution_count": null,
   "id": "4ca85a4a",
   "metadata": {},
   "outputs": [],
   "source": [
    "plt.plot(H_src[1])\n",
    "plt.plot(H_dst[1])"
   ]
  },
  {
   "cell_type": "code",
   "execution_count": null,
   "id": "e06dd984",
   "metadata": {},
   "outputs": [],
   "source": []
  },
  {
   "cell_type": "code",
   "execution_count": null,
   "id": "47a9b29e",
   "metadata": {},
   "outputs": [],
   "source": []
  },
  {
   "cell_type": "code",
   "execution_count": null,
   "id": "4139ba9f",
   "metadata": {},
   "outputs": [],
   "source": []
  }
 ],
 "metadata": {
  "kernelspec": {
   "display_name": "Python 3 (ipykernel)",
   "language": "python",
   "name": "python3"
  },
  "language_info": {
   "codemirror_mode": {
    "name": "ipython",
    "version": 3
   },
   "file_extension": ".py",
   "mimetype": "text/x-python",
   "name": "python",
   "nbconvert_exporter": "python",
   "pygments_lexer": "ipython3",
   "version": "3.9.10"
  }
 },
 "nbformat": 4,
 "nbformat_minor": 5
}
