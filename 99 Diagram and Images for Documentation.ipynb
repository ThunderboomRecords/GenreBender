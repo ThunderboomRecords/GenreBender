{
 "cells": [
  {
   "cell_type": "markdown",
   "id": "6e753544",
   "metadata": {},
   "source": [
    "# 99 Diagrams and Images for Documentation "
   ]
  },
  {
   "cell_type": "code",
   "execution_count": null,
   "id": "5a255a48",
   "metadata": {},
   "outputs": [],
   "source": [
    "import os\n",
    "import sys\n",
    "print(sys.version)\n",
    "sys.path.extend(['./COMMON_UTILS/'])"
   ]
  },
  {
   "cell_type": "code",
   "execution_count": null,
   "id": "a08d8ebd",
   "metadata": {},
   "outputs": [],
   "source": [
    "import pickle as pkl\n",
    "\n",
    "import numpy as np\n",
    "import matplotlib.pyplot as plt\n",
    "\n",
    "import librosa\n",
    "import librosa.display\n",
    "\n",
    "from tqdm.auto import tqdm\n",
    "from IPython.display import display, Audio"
   ]
  },
  {
   "cell_type": "code",
   "execution_count": null,
   "id": "abcad032",
   "metadata": {},
   "outputs": [],
   "source": [
    "from utils import plot_audio, play"
   ]
  },
  {
   "cell_type": "code",
   "execution_count": null,
   "id": "07daf8c0",
   "metadata": {},
   "outputs": [],
   "source": [
    "plt.rcParams[\"figure.figsize\"] = (15, 5)"
   ]
  },
  {
   "cell_type": "markdown",
   "id": "07f4b6d9",
   "metadata": {},
   "source": [
    "### Demucs Waveforms"
   ]
  },
  {
   "cell_type": "code",
   "execution_count": null,
   "id": "fffcb0d3",
   "metadata": {},
   "outputs": [],
   "source": [
    "src = \"neil_young\"\n",
    "y, sr = librosa.load(f\"PROCESSED/{src}/source.wav\", sr=None)"
   ]
  },
  {
   "cell_type": "code",
   "execution_count": null,
   "id": "c73d940d",
   "metadata": {},
   "outputs": [],
   "source": [
    "play(y, sr)"
   ]
  },
  {
   "cell_type": "code",
   "execution_count": null,
   "id": "69db8428",
   "metadata": {},
   "outputs": [],
   "source": [
    "ax = plot_audio(y, sr, lw=1, c='black', alpha=0.5)\n",
    "ax.set_title(src)\n",
    "ax.set_xlabel(\"time\")\n",
    "ax.set_ylim(-0.7, 0.7)\n",
    "plt.tight_layout()\n",
    "\n",
    "plt.savefig(\"DOCUMENTAION/DIAGRAMS/demucs_0_full.png\", facecolor=\"white\")\n",
    "plt.show()"
   ]
  },
  {
   "cell_type": "code",
   "execution_count": null,
   "id": "d4389633",
   "metadata": {},
   "outputs": [],
   "source": [
    "y_drums, _ = librosa.load(f\"PROCESSED/{src}/DRUMS/drums.wav\", sr=sr)\n",
    "y_bass, _ = librosa.load(f\"PROCESSED/{src}/BASS/bass.wav\", sr=sr)\n",
    "y_vocals, _ = librosa.load(f\"PROCESSED/{src}/VOCALS/vocals.wav\", sr=sr)\n",
    "y_other, _ = librosa.load(f\"PROCESSED/{src}/OTHER/other.wav\", sr=sr)"
   ]
  },
  {
   "cell_type": "code",
   "execution_count": null,
   "id": "730648d9",
   "metadata": {},
   "outputs": [],
   "source": [
    "ax = plot_audio(y_drums, sr, lw=1, color='C0', alpha=0.8)\n",
    "ax.set_title(\"drums\")\n",
    "ax.set_ylim(-0.7, 0.7)\n",
    "plt.tight_layout()\n",
    "\n",
    "plt.savefig(\"DOCUMENTAION/DIAGRAMS/demucs_1_drums.png\", facecolor=\"white\")\n",
    "plt.show()"
   ]
  },
  {
   "cell_type": "code",
   "execution_count": null,
   "id": "81e6a181",
   "metadata": {},
   "outputs": [],
   "source": [
    "ax = plot_audio(y_bass, sr, lw=1, color='C1', alpha=0.8)\n",
    "ax.set_title(\"bass\")\n",
    "ax.set_ylim(-0.7, 0.7)\n",
    "plt.tight_layout()\n",
    "\n",
    "plt.savefig(\"DOCUMENTAION/DIAGRAMS/demucs_2_bass.png\", facecolor=\"white\")\n",
    "plt.show()"
   ]
  },
  {
   "cell_type": "code",
   "execution_count": null,
   "id": "8e32e1d4",
   "metadata": {},
   "outputs": [],
   "source": [
    "ax = plot_audio(y_vocals, sr, lw=1, color='C2', alpha=0.8)\n",
    "ax.set_title(\"vocals\")\n",
    "ax.set_ylim(-0.7, 0.7)\n",
    "plt.tight_layout()\n",
    "\n",
    "plt.savefig(\"DOCUMENTAION/DIAGRAMS/demucs_3_vocals.png\", facecolor=\"white\")\n",
    "plt.show()"
   ]
  },
  {
   "cell_type": "code",
   "execution_count": null,
   "id": "779f83b0",
   "metadata": {},
   "outputs": [],
   "source": [
    "ax = plot_audio(y_other, sr, lw=1, color='C3', alpha=0.8)\n",
    "ax.set_title(\"other\")\n",
    "ax.set_ylim(-0.7, 0.7)\n",
    "plt.tight_layout()\n",
    "\n",
    "plt.savefig(\"DOCUMENTAION/DIAGRAMS/demucs_4_other.png\", facecolor=\"white\")\n",
    "plt.show()"
   ]
  },
  {
   "cell_type": "code",
   "execution_count": null,
   "id": "be8853d1",
   "metadata": {},
   "outputs": [],
   "source": [
    "fig, axes = plt.subplots(6, sharex=True)\n",
    "plot_audio(y, sr, lw=1, c='black', alpha=0.5, ax=axes[0])\n",
    "plot_audio(y_drums, sr, lw=1, color='C0', alpha=0.8, ax=axes[2])\n",
    "plot_audio(y_bass, sr, lw=1, color='C1', alpha=0.8, ax=axes[3])\n",
    "plot_audio(y_vocals, sr, lw=1, color='C2', alpha=0.8, ax=axes[4])\n",
    "plot_audio(y_other, sr, lw=1, color='C3', alpha=0.8, ax=axes[5])\n",
    "\n",
    "for ax, name in zip(axes, [\"original\", \"\", \"drums\", \"bass\", \"vocals\", \"other\"]):\n",
    "    ax.set_ylim(-0.5, 0.5)\n",
    "    ax.set_yticks([])\n",
    "    ax.set_ylabel(name, rotation=\"horizontal\", ha=\"right\", va=\"center\", fontsize=\"larger\")\n",
    "\n",
    "axes[0].set_xlim(0, 20.0)\n",
    "# axes[-1].set_xlabel(\"time\")\n",
    "axes[1].set_visible(False)\n",
    "plt.tight_layout()\n",
    "plt.savefig(\"DOCUMENTAION/DIAGRAMS/demucs.png\", facecolor=\"white\")\n",
    "plt.show()"
   ]
  },
  {
   "cell_type": "markdown",
   "id": "75c74896",
   "metadata": {},
   "source": [
    "### Spectrogram "
   ]
  },
  {
   "cell_type": "code",
   "execution_count": null,
   "id": "09e46b83",
   "metadata": {},
   "outputs": [],
   "source": [
    "S = librosa.stft(y=y, n_fft=4096, win_length=4096, hop_length=512)\n",
    "D = librosa.amplitude_to_db(np.abs(S), ref=np.max)"
   ]
  },
  {
   "cell_type": "code",
   "execution_count": null,
   "id": "7296b687",
   "metadata": {},
   "outputs": [],
   "source": [
    "librosa.display.specshow(D, x_axis=\"time\", y_axis=\"log\", n_fft=4096, win_length=4096, hop_length=512, sr=sr)\n",
    "plt.tight_layout()\n",
    "plt.savefig(\"DOCUMENTAION/DIAGRAMS/spectrogram.png\", facecolor='white')\n",
    "plt.show()"
   ]
  },
  {
   "cell_type": "markdown",
   "id": "d3b413ef",
   "metadata": {},
   "source": [
    "### Swing Measurment "
   ]
  },
  {
   "cell_type": "code",
   "execution_count": null,
   "id": "984bd59a",
   "metadata": {},
   "outputs": [],
   "source": [
    "from scipy.signal import find_peaks"
   ]
  },
  {
   "cell_type": "code",
   "execution_count": null,
   "id": "e220269b",
   "metadata": {},
   "outputs": [],
   "source": [
    "hop_length = 512"
   ]
  },
  {
   "cell_type": "code",
   "execution_count": null,
   "id": "2038646c",
   "metadata": {},
   "outputs": [],
   "source": [
    "src = \"jazz_beat\"\n",
    "y, sr = librosa.load(f\"PROCESSED/{src}/source.wav\", sr=None)\n",
    "rms = librosa.feature.rms(y=y, hop_length=hop_length)[0]\n",
    "with open(os.path.join(f\"./PROCESSED/{src}\", 'downbeats.pkl'), 'rb') as f:\n",
    "    db = pkl.load(f)\n",
    "beats = []\n",
    "for i in range(len(db) - 1):\n",
    "    beats.extend(np.linspace(db[i], db[i+1], 4, endpoint=False))\n",
    "beats = np.array(beats)"
   ]
  },
  {
   "cell_type": "code",
   "execution_count": null,
   "id": "450f8f38",
   "metadata": {},
   "outputs": [],
   "source": [
    "fig, axes = plt.subplots(2, sharex=True)\n",
    "plot_audio(y, sr, ax=axes[0], color=\"black\", alpha=0.5, lw=1)\n",
    "tf = librosa.times_like(rms, sr=sr, hop_length=hop_length)\n",
    "axes[1].plot(tf, rms, color='C0', lw='2')\n",
    "for d in beats:\n",
    "    axes[0].axvline(d, color='k', ls='--')\n",
    "    axes[1].axvline(d, color='k', ls='--')\n",
    "axes[1].set_xlim(2, 15)\n",
    "\n",
    "axes[0].set_yticks([])\n",
    "axes[1].set_yticks([])\n",
    "axes[1].set_xticks([])\n",
    "\n",
    "axes[0].set_ylabel(\"audio\", ha=\"right\", va=\"center\", rotation=\"horizontal\", fontsize=\"larger\")\n",
    "axes[1].set_ylabel(\"RMS\", ha=\"right\", va=\"center\", rotation=\"horizontal\", fontsize=\"larger\")\n",
    "\n",
    "plt.tight_layout()\n",
    "plt.savefig(\"DOCUMENTAION/DIAGRAMS/rms.png\")\n",
    "plt.show()"
   ]
  },
  {
   "cell_type": "code",
   "execution_count": null,
   "id": "12cbac2a",
   "metadata": {},
   "outputs": [],
   "source": [
    "beats_rms = []\n",
    "beats_frames = librosa.time_to_frames(beats, sr=sr, hop_length=hop_length)\n",
    "for start, end in zip(beats_frames[:-1], beats_frames[1:]):\n",
    "    beats_rms.append(rms[start:end])\n",
    "length = min(map(len, beats_rms))\n",
    "beat_energy = np.mean(\n",
    "    np.stack(\n",
    "        [b[:length] for b in beats_rms]\n",
    "    ),\n",
    "    axis=0\n",
    ")\n",
    "peaks, _ = find_peaks(beat_energy, height=0.03, prominence=0.01)\n",
    "swing = round((peaks[1] - peaks[0]) / len(beat_energy), 2)"
   ]
  },
  {
   "cell_type": "code",
   "execution_count": null,
   "id": "0f566fdc",
   "metadata": {},
   "outputs": [],
   "source": [
    "fig, ax = plt.subplots(figsize=(5, 5))\n",
    "for brms in beats_rms:\n",
    "    ax.plot(np.roll(brms, -peaks[0]), alpha=0.1, c='k', lw=1)\n",
    "    \n",
    "ax.plot(np.roll(beat_energy, -peaks[0]), c='r', lw=2)\n",
    "ax.axvline(peaks[1] - peaks[0], lw=2, ls=\"--\", c=\"r\")\n",
    "ax.text(\n",
    "    swing, \n",
    "    0.1, \n",
    "    f'{swing*100:.0f}%', \n",
    "    ha=\"center\", \n",
    "    fontsize=\"larger\", \n",
    "    color=\"white\", \n",
    "    backgroundcolor=\"r\",\n",
    "    transform=ax.transAxes,\n",
    ")\n",
    "\n",
    "ax.set_xticks(np.linspace(0, len(beat_energy), 5))\n",
    "ax.set_xticklabels(np.linspace(0, 100, 5, dtype=int))\n",
    "ax.set_yticks([])\n",
    "ax.set_xlim(0, len(beat_energy))\n",
    "\n",
    "plt.tight_layout()\n",
    "plt.savefig(f\"DOCUMENTAION/DIAGRAMS/swing_{src}.png\", facecolor='white')\n",
    "plt.show()"
   ]
  },
  {
   "cell_type": "code",
   "execution_count": null,
   "id": "aa9c6155",
   "metadata": {},
   "outputs": [],
   "source": []
  },
  {
   "cell_type": "code",
   "execution_count": null,
   "id": "0a7b8935",
   "metadata": {},
   "outputs": [],
   "source": []
  },
  {
   "cell_type": "code",
   "execution_count": null,
   "id": "b7076e8c",
   "metadata": {},
   "outputs": [],
   "source": []
  },
  {
   "cell_type": "code",
   "execution_count": null,
   "id": "0c309215",
   "metadata": {},
   "outputs": [],
   "source": []
  },
  {
   "cell_type": "code",
   "execution_count": null,
   "id": "bda0f7ca",
   "metadata": {},
   "outputs": [],
   "source": []
  },
  {
   "cell_type": "code",
   "execution_count": null,
   "id": "f380afb0",
   "metadata": {},
   "outputs": [],
   "source": []
  },
  {
   "cell_type": "code",
   "execution_count": null,
   "id": "b6a484fd",
   "metadata": {},
   "outputs": [],
   "source": []
  },
  {
   "cell_type": "code",
   "execution_count": null,
   "id": "3944e2a7",
   "metadata": {},
   "outputs": [],
   "source": []
  },
  {
   "cell_type": "code",
   "execution_count": null,
   "id": "fe911c1f",
   "metadata": {},
   "outputs": [],
   "source": []
  },
  {
   "cell_type": "code",
   "execution_count": null,
   "id": "62d919e1",
   "metadata": {},
   "outputs": [],
   "source": []
  },
  {
   "cell_type": "code",
   "execution_count": null,
   "id": "16d5060e",
   "metadata": {},
   "outputs": [],
   "source": []
  }
 ],
 "metadata": {
  "kernelspec": {
   "display_name": "Python 3 (ipykernel)",
   "language": "python",
   "name": "python3"
  },
  "language_info": {
   "codemirror_mode": {
    "name": "ipython",
    "version": 3
   },
   "file_extension": ".py",
   "mimetype": "text/x-python",
   "name": "python",
   "nbconvert_exporter": "python",
   "pygments_lexer": "ipython3",
   "version": "3.9.10"
  }
 },
 "nbformat": 4,
 "nbformat_minor": 5
}
