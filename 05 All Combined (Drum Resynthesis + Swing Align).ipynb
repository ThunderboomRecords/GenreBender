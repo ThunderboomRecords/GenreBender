{
 "cells": [
  {
   "cell_type": "markdown",
   "id": "33a8732d",
   "metadata": {},
   "source": [
    "# 05 All Combined (Drum Resynthesis + Swing Aligned) "
   ]
  },
  {
   "cell_type": "code",
   "execution_count": null,
   "id": "037ee963",
   "metadata": {},
   "outputs": [],
   "source": [
    "import os\n",
    "import sys\n",
    "print(sys.version)"
   ]
  },
  {
   "cell_type": "code",
   "execution_count": null,
   "id": "9529e503",
   "metadata": {},
   "outputs": [],
   "source": [
    "import pickle as pkl\n",
    "\n",
    "import numpy as np\n",
    "import matplotlib.pyplot as plt\n",
    "\n",
    "import torch\n",
    "import librosa\n",
    "import pyrubberband\n",
    "\n",
    "from tqdm.auto import tqdm\n",
    "from IPython.display import display, Audio"
   ]
  },
  {
   "cell_type": "code",
   "execution_count": null,
   "id": "8f8addc1",
   "metadata": {},
   "outputs": [],
   "source": [
    "sys.path.append('COMMON_UTILS/')"
   ]
  },
  {
   "cell_type": "code",
   "execution_count": null,
   "id": "7e3121e0",
   "metadata": {},
   "outputs": [],
   "source": [
    "from utils import plot_audio, play, normalise\n",
    "\n",
    "from tempo_align import warpAudio, quantiseAudio\n",
    "\n",
    "from drum_processor import getDownbeats\n",
    "from drum_decomposition import (\n",
    "    getDecomposition, plotDecomposition, isolateSources, reconstructDrums, getSamples\n",
    ")\n",
    "\n",
    "from wasserstein_transformations import SmoothTransition\n",
    "\n",
    "from swing_align import alignSwing, divideTimes"
   ]
  },
  {
   "cell_type": "code",
   "execution_count": null,
   "id": "94969847",
   "metadata": {},
   "outputs": [],
   "source": [
    "plt.rcParams['figure.figsize'] = (15, 5)\n",
    "\n",
    "device = torch.device('cuda' if torch.cuda.is_available() else 'cpu')\n",
    "print(f'computing on {device}')"
   ]
  },
  {
   "cell_type": "code",
   "execution_count": null,
   "id": "7071dfda",
   "metadata": {},
   "outputs": [],
   "source": [
    "def findDownbeats(p):\n",
    "    try:\n",
    "        with open(os.path.join(p, 'downbeats.pkl'), 'rb') as f:\n",
    "            db = pkl.load(f)\n",
    "        print('found downbeats.pkl')\n",
    "    except FileNotFoundError:\n",
    "        print('computing downbeats')\n",
    "        db = getDownbeats(\n",
    "            os.path.join(p, 'source.wav'), \n",
    "            transition_lambda=64, \n",
    "        )\n",
    "\n",
    "        with open(os.path.join(p, 'downbeats.pkl'), 'wb') as f:\n",
    "            pkl.dump(db, f)\n",
    "            \n",
    "    return db"
   ]
  },
  {
   "cell_type": "markdown",
   "id": "71d795e5",
   "metadata": {},
   "source": [
    "#### 01 Select Targets"
   ]
  },
  {
   "cell_type": "code",
   "execution_count": null,
   "id": "ca729e02",
   "metadata": {},
   "outputs": [],
   "source": [
    "print(\"avaliable songs names:\\n\")\n",
    "print('\\n'.join(sorted(os.listdir(\"./PROCESSED/\"))))"
   ]
  },
  {
   "cell_type": "code",
   "execution_count": null,
   "id": "bc28e928",
   "metadata": {},
   "outputs": [],
   "source": [
    "TRG = './PROCESSED/jazz3/'\n",
    "y_trg, sr = librosa.load(os.path.join(TRG, 'source.wav'), sr=44100)\n",
    "\n",
    "ORG = './PROCESSED/rock2/'\n",
    "y_org, _ = librosa.load(os.path.join(ORG, 'source.wav'), sr=sr)\n",
    "\n",
    "print('TARGET:')\n",
    "play(y_trg, sr)\n",
    "print('ORIGINAL:')\n",
    "play(y_org, sr)"
   ]
  },
  {
   "cell_type": "markdown",
   "id": "8b1c045c",
   "metadata": {},
   "source": [
    "#### 02 Get Stems "
   ]
  },
  {
   "cell_type": "code",
   "execution_count": null,
   "id": "0e860669",
   "metadata": {},
   "outputs": [],
   "source": [
    "y_trg_drums, sr = librosa.load(os.path.join(TRG, 'DRUMS/drums.wav'), sr=sr)\n",
    "y_org_drums, _ = librosa.load(os.path.join(ORG, 'DRUMS/drums.wav'), sr=sr)\n",
    "y_org_full, _ = librosa.load(os.path.join(ORG, 'source.wav'), sr=sr)"
   ]
  },
  {
   "cell_type": "code",
   "execution_count": null,
   "id": "85f47fb1",
   "metadata": {},
   "outputs": [],
   "source": [
    "play(y_trg_drums, sr)\n",
    "play(y_org_drums, sr)\n",
    "play(y_org_full, sr)"
   ]
  },
  {
   "cell_type": "code",
   "execution_count": null,
   "id": "3cc01a6b",
   "metadata": {},
   "outputs": [],
   "source": [
    "stems = []\n",
    "for s in ['vocals', 'bass', 'other']:\n",
    "    y_ins, _ = librosa.load(os.path.join(ORG, s.upper(), f'{s}.wav'), sr=sr)\n",
    "    stems.append(y_ins)\n",
    "y_org_ins = np.sum(stems, axis=0)\n",
    "play(y_org_ins, sr)"
   ]
  },
  {
   "cell_type": "markdown",
   "id": "d8badf97",
   "metadata": {},
   "source": [
    "#### 03 Get Downbeats "
   ]
  },
  {
   "cell_type": "code",
   "execution_count": null,
   "id": "201e4e43",
   "metadata": {},
   "outputs": [],
   "source": [
    "db_org = findDownbeats(ORG)\n",
    "db_trg = findDownbeats(TRG)"
   ]
  },
  {
   "cell_type": "code",
   "execution_count": null,
   "id": "234348b3",
   "metadata": {},
   "outputs": [],
   "source": [
    "# tempo_trg = librosa.beat.tempo(y=y_trg, sr=sr)\n",
    "# tempo_org = librosa.beat.tempo(y=y_org, sr=sr)\n",
    "tempo_trg = 60/(np.diff(db_trg).mean()/4)\n",
    "tempo_org = 60/(np.diff(db_org).mean()/4)\n",
    "print(tempo_trg, tempo_org)"
   ]
  },
  {
   "cell_type": "code",
   "execution_count": null,
   "id": "8f6eb194",
   "metadata": {},
   "outputs": [],
   "source": [
    "# fix tempo\n",
    "# db_org = db_org[::2]"
   ]
  },
  {
   "cell_type": "markdown",
   "id": "e5f1f9e7",
   "metadata": {},
   "source": [
    "#### 04 Quantise Audio "
   ]
  },
  {
   "cell_type": "code",
   "execution_count": null,
   "id": "520c60a5",
   "metadata": {},
   "outputs": [],
   "source": [
    "y_trg, _ = quantiseAudio(y_trg, sr, db_trg, hq=True)\n",
    "y_org, _ = quantiseAudio(y_org, sr, db_org, hq=True)\n",
    "y_trg_drums, db_trg = quantiseAudio(y_trg_drums, sr, db_trg, hq=True)\n",
    "y_org_drums, db_org = quantiseAudio(y_org_drums, sr, db_org, hq=True)\n",
    "y_org_ins, _  = quantiseAudio(y_org_ins, sr, db_org, hq=True)"
   ]
  },
  {
   "cell_type": "markdown",
   "id": "05850e89",
   "metadata": {},
   "source": [
    "#### 05 Sync Audio "
   ]
  },
  {
   "cell_type": "code",
   "execution_count": null,
   "id": "c448c533",
   "metadata": {},
   "outputs": [],
   "source": [
    "y_trg_warped, y_org_synced, downbeats, idxs_trg, idxs_org = warpAudio(\n",
    "    y_trg_drums, y_org_drums, db_trg, db_org, sr\n",
    ")"
   ]
  },
  {
   "cell_type": "code",
   "execution_count": null,
   "id": "7c2d30f9",
   "metadata": {},
   "outputs": [],
   "source": [
    "assert y_trg_warped.shape == y_org_synced.shape"
   ]
  },
  {
   "cell_type": "code",
   "execution_count": null,
   "id": "01704c88",
   "metadata": {},
   "outputs": [],
   "source": [
    "y_ins_segment = y_org_ins[idxs_org[0]: idxs_org[1]]"
   ]
  },
  {
   "cell_type": "markdown",
   "id": "552e57c0",
   "metadata": {},
   "source": [
    "#### 06 Decompose Drum Audio "
   ]
  },
  {
   "cell_type": "code",
   "execution_count": null,
   "id": "aae6a874",
   "metadata": {},
   "outputs": [],
   "source": [
    "with open('./drum_templates.pkl', 'rb') as f:\n",
    "    templates = pkl.load(f)\n",
    "    \n",
    "kd_temp = templates['kd_temp']\n",
    "sd_temp = templates['sd_temp']\n",
    "hh_temp = templates['hh_temp']\n",
    "\n",
    "W_0 = np.stack([kd_temp, sd_temp, hh_temp], axis=1)\n",
    "W_0 = torch.from_numpy(W_0).to(device)"
   ]
  },
  {
   "cell_type": "code",
   "execution_count": null,
   "id": "609d5852",
   "metadata": {},
   "outputs": [],
   "source": [
    "W_trg, H_trg, V_trg, _, net_trg = getDecomposition(\n",
    "    y_trg_warped, R=3, W=W_0, trainable_W=True, device=device,\n",
    ")"
   ]
  },
  {
   "cell_type": "code",
   "execution_count": null,
   "id": "4dae1349",
   "metadata": {},
   "outputs": [],
   "source": [
    "W_org, H_org, V_org, _, net_org = getDecomposition(\n",
    "    y_org_synced, R=3, W=W_0, trainable_W=True, device=device,\n",
    ")"
   ]
  },
  {
   "cell_type": "code",
   "execution_count": null,
   "id": "bd2a77df",
   "metadata": {},
   "outputs": [],
   "source": [
    "samples_trg = []\n",
    "for i in range(3):\n",
    "    samples = getSamples(net_trg, i, sr)\n",
    "    sample = samples[np.argmax(list(map(len, samples)))]\n",
    "    samples_trg.append(sample)"
   ]
  },
  {
   "cell_type": "code",
   "execution_count": null,
   "id": "9be09dc8",
   "metadata": {},
   "outputs": [],
   "source": [
    "for s in samples_trg:\n",
    "    play(s, sr)"
   ]
  },
  {
   "cell_type": "code",
   "execution_count": null,
   "id": "a32cae65",
   "metadata": {},
   "outputs": [],
   "source": [
    "plot_audio(np.concatenate(samples_trg), sr);"
   ]
  },
  {
   "cell_type": "code",
   "execution_count": null,
   "id": "feb9e3b4",
   "metadata": {},
   "outputs": [],
   "source": [
    "samples_org = []\n",
    "for i in range(3):\n",
    "    samples = getSamples(net_org, i, sr)\n",
    "    try:\n",
    "        sample = samples[np.argmax(list(map(len, samples)))]\n",
    "    except ValueError:\n",
    "        print(f'not samples found for {i}')\n",
    "        sample = np.zeros(256)\n",
    "    samples_org.append(sample)"
   ]
  },
  {
   "cell_type": "code",
   "execution_count": null,
   "id": "0eed94ac",
   "metadata": {},
   "outputs": [],
   "source": [
    "for s in samples_org:\n",
    "    play(s, sr)"
   ]
  },
  {
   "cell_type": "code",
   "execution_count": null,
   "id": "77ca69c7",
   "metadata": {},
   "outputs": [],
   "source": [
    "plot_audio(np.concatenate(samples_org), sr);"
   ]
  },
  {
   "cell_type": "markdown",
   "id": "892cbeb5",
   "metadata": {},
   "source": [
    "#### 07 Morph Activations "
   ]
  },
  {
   "cell_type": "code",
   "execution_count": null,
   "id": "512f9875",
   "metadata": {},
   "outputs": [],
   "source": [
    "sm = SmoothTransition(H_org, H_trg)"
   ]
  },
  {
   "cell_type": "code",
   "execution_count": null,
   "id": "19a4f7b3",
   "metadata": {},
   "outputs": [],
   "source": [
    "weight = 1.0"
   ]
  },
  {
   "cell_type": "code",
   "execution_count": null,
   "id": "94210ce3",
   "metadata": {},
   "outputs": [],
   "source": [
    "H_w = sm(weight, power=0.5)\n",
    "\n",
    "H_w = torch.from_numpy(sm(weight)).type(torch.float).to(device)\n",
    "for i in range(len(H_org)):\n",
    "    H_w[i] *= (H_org[i].max() / H_w[i].max())\n",
    "    \n",
    "V_w = net_org.reconstruct(\n",
    "        net_org.W, H_w.unsqueeze(0)\n",
    "    ).detach().cpu().squeeze().numpy()"
   ]
  },
  {
   "cell_type": "markdown",
   "id": "d37f7700",
   "metadata": {},
   "source": [
    "#### 08 Reconstruct Audio "
   ]
  },
  {
   "cell_type": "code",
   "execution_count": null,
   "id": "a2e4de78",
   "metadata": {},
   "outputs": [],
   "source": [
    "y_w_drums = librosa.griffinlim(V_w)\n",
    "# if y_w_drums.max() > 1 or y_w_drums.min() < -1:\n",
    "#     y_w_drums /= max(y_w_drums.max(), -y_w_drums.min())\n",
    "\n",
    "# y_w_drums = reconstructDrums(H_w, samples_org, len(y_org_synced))\n",
    "y_w_full = normalise(y_w_drums + np.copy(y_ins_segment[:len(y_w_drums)]))\n",
    "y_w_full *= y_org_drums.max()"
   ]
  },
  {
   "cell_type": "code",
   "execution_count": null,
   "id": "6028413d",
   "metadata": {},
   "outputs": [],
   "source": [
    "plot_audio(y_w_drums);"
   ]
  },
  {
   "cell_type": "code",
   "execution_count": null,
   "id": "f7f93dc9",
   "metadata": {},
   "outputs": [],
   "source": [
    "print(f'ORIGINAL with {weight:.0%} morphing:')\n",
    "play(y_w_full, sr, normalize=True)\n",
    "print(f'isolated resynthesised drums:')\n",
    "play(y_w_drums, sr, normalize=True)"
   ]
  },
  {
   "cell_type": "markdown",
   "id": "95ac8c52",
   "metadata": {},
   "source": [
    "#### 09 Apply Swing "
   ]
  },
  {
   "cell_type": "code",
   "execution_count": null,
   "id": "5b0ef41c",
   "metadata": {},
   "outputs": [],
   "source": [
    "from swing_align import getSwingPoints, getSwingMap, getSwingTimings\n",
    "from tempo_align import matchAudioEvents"
   ]
  },
  {
   "cell_type": "code",
   "execution_count": null,
   "id": "fa590223",
   "metadata": {},
   "outputs": [],
   "source": [
    "points_org = getSwingPoints(y_org, sr, db_org, hop_length=256)\n",
    "points_trg = getSwingPoints(y_trg, sr, db_trg, hop_length=256)\n",
    "\n",
    "map_ = getSwingMap(points_org, points_trg)\n",
    "points_from, points_to = getSwingTimings(db_org, map_)\n",
    "\n",
    "y_ins_warped = matchAudioEvents(y_org_ins, sr, points_from, points_to, hq=True)\n",
    "y_ins_warped = y_ins_warped[idxs_org[0]:idxs_org[1]]"
   ]
  },
  {
   "cell_type": "code",
   "execution_count": null,
   "id": "689d5208",
   "metadata": {},
   "outputs": [],
   "source": [
    "map_"
   ]
  },
  {
   "cell_type": "code",
   "execution_count": null,
   "id": "c536fc89",
   "metadata": {},
   "outputs": [],
   "source": [
    "print(f'ORIGINAL INSTRUMENTATION:')\n",
    "play(y_ins_segment, sr)\n",
    "print(f'with swing applied:')\n",
    "play(y_ins_warped, sr)"
   ]
  },
  {
   "cell_type": "markdown",
   "id": "e73db71e",
   "metadata": {},
   "source": [
    "#### 10 Complete Style Transfer "
   ]
  },
  {
   "cell_type": "code",
   "execution_count": null,
   "id": "a231518c",
   "metadata": {},
   "outputs": [],
   "source": [
    "y_styled = y_w_drums * 0.5 + np.copy(y_ins_warped[:len(y_w_drums)])\n",
    "y_styled_bpm = pyrubberband.pyrb.time_stretch(y_styled, sr, rate=(tempo_trg / tempo_org)[0])"
   ]
  },
  {
   "cell_type": "code",
   "execution_count": null,
   "id": "e2a6b6d4",
   "metadata": {},
   "outputs": [],
   "source": [
    "print(f'ORIGINAL (aligned):')\n",
    "play(y_org[idxs_org[0]:idxs_org[1]], sr)\n",
    "print(f'Drum resynthesis + swing applied')\n",
    "play(y_styled, sr, normalize=True)\n",
    "print(f'at TRGs tempo {tempo_trg[0]:.0f}bpm (from {tempo_org[0]:.0f}bpm)')\n",
    "play(y_styled_bpm, sr, normalize=True)"
   ]
  },
  {
   "cell_type": "markdown",
   "id": "289490f0",
   "metadata": {},
   "source": [
    " "
   ]
  },
  {
   "cell_type": "code",
   "execution_count": null,
   "id": "f306da4a",
   "metadata": {},
   "outputs": [],
   "source": [
    "def fadeOut(y, sr, length=1):\n",
    "    env = np.ones_like(y)\n",
    "    slope_length = librosa.time_to_samples(length, sr=sr)\n",
    "    env[-slope_length:] = np.linspace(1, 0, slope_length)\n",
    "    \n",
    "    return y * env"
   ]
  },
  {
   "cell_type": "code",
   "execution_count": null,
   "id": "2a25d89f",
   "metadata": {},
   "outputs": [],
   "source": [
    "y_before_after = np.concatenate(\n",
    "    [fadeOut(y_org[idxs_org[0]:idxs_org[1]], sr, 1.5), np.zeros(sr), y_styled_bpm]\n",
    ")"
   ]
  },
  {
   "cell_type": "code",
   "execution_count": null,
   "id": "febc43ab",
   "metadata": {},
   "outputs": [],
   "source": [
    "play(y_before_after, sr)"
   ]
  },
  {
   "cell_type": "code",
   "execution_count": null,
   "id": "50b4c5dc",
   "metadata": {},
   "outputs": [],
   "source": []
  },
  {
   "cell_type": "code",
   "execution_count": null,
   "id": "f79d0f03",
   "metadata": {},
   "outputs": [],
   "source": []
  },
  {
   "cell_type": "code",
   "execution_count": null,
   "id": "97d903a3",
   "metadata": {},
   "outputs": [],
   "source": []
  },
  {
   "cell_type": "code",
   "execution_count": null,
   "id": "444e272a",
   "metadata": {},
   "outputs": [],
   "source": []
  },
  {
   "cell_type": "code",
   "execution_count": null,
   "id": "07923afa",
   "metadata": {},
   "outputs": [],
   "source": []
  }
 ],
 "metadata": {
  "kernelspec": {
   "display_name": "Python 3 (ipykernel)",
   "language": "python",
   "name": "python3"
  },
  "language_info": {
   "codemirror_mode": {
    "name": "ipython",
    "version": 3
   },
   "file_extension": ".py",
   "mimetype": "text/x-python",
   "name": "python",
   "nbconvert_exporter": "python",
   "pygments_lexer": "ipython3",
   "version": "3.9.10"
  }
 },
 "nbformat": 4,
 "nbformat_minor": 5
}
