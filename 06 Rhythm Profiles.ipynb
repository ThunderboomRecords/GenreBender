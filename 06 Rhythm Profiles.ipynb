{
 "cells": [
  {
   "cell_type": "markdown",
   "id": "8cd15fc7",
   "metadata": {},
   "source": [
    "# 06 Rhythm Profiles"
   ]
  },
  {
   "cell_type": "code",
   "execution_count": null,
   "id": "99e34908",
   "metadata": {},
   "outputs": [],
   "source": [
    "import os\n",
    "import sys\n",
    "print(sys.version)"
   ]
  },
  {
   "cell_type": "code",
   "execution_count": null,
   "id": "9dbae159",
   "metadata": {},
   "outputs": [],
   "source": [
    "import pickle as pkl\n",
    "\n",
    "import numpy as np\n",
    "import matplotlib.pyplot as plt\n",
    "\n",
    "import torch\n",
    "\n",
    "import librosa"
   ]
  },
  {
   "cell_type": "code",
   "execution_count": null,
   "id": "1577d69c",
   "metadata": {},
   "outputs": [],
   "source": [
    "plt.rcParams['figure.figsize'] = (15, 5)\n",
    "\n",
    "device = torch.device('cuda' if torch.cuda.is_available() else 'cpu')\n",
    "print(f'computing on {device}')"
   ]
  },
  {
   "cell_type": "code",
   "execution_count": null,
   "id": "3e12adbf",
   "metadata": {},
   "outputs": [],
   "source": [
    "sys.path.append(\"COMMON_UTILS/\")"
   ]
  },
  {
   "cell_type": "code",
   "execution_count": null,
   "id": "ce8a998d",
   "metadata": {},
   "outputs": [],
   "source": [
    "from utils import plot_audio, play, plot_beat_grid\n",
    "from drum_processor import getDownbeats\n",
    "from drum_decomposition import (\n",
    "    getDecomposition, plotDecomposition, drumGridFromHs, isolateSources, splitActivationsAndAudio, quantiseGrids,\n",
    ")"
   ]
  },
  {
   "cell_type": "code",
   "execution_count": null,
   "id": "cc67b7b4",
   "metadata": {},
   "outputs": [],
   "source": [
    "with open('./drum_templates.pkl', 'rb') as f:\n",
    "    templates = pkl.load(f)\n",
    "    \n",
    "kd_temp = templates['kd_temp']\n",
    "sd_temp = templates['sd_temp']\n",
    "hh_temp = templates['hh_temp']\n",
    "\n",
    "W_0 = np.stack([kd_temp, sd_temp, hh_temp], axis=1)\n",
    "W_0 = torch.from_numpy(W_0).to(device)"
   ]
  },
  {
   "cell_type": "markdown",
   "id": "99734856",
   "metadata": {},
   "source": [
    "**Problem:** Rhythm transfer from one target *song* to the source does not necessarily capture the style of a whole genre.\n",
    "It also has the issue that currently it is the same percussion pattern throughout, so the original song structure is lost.\n",
    "\n",
    "**Solution:** Build a target rhythm *profile* that represents a characteristic percussive track, and adapt the original drum track by selecting the probability of a drum hit in the new genre, given it was there in the original.\n",
    "These profiles can be hand crafted for now, or produced through a data driven survey of real music."
   ]
  },
  {
   "cell_type": "markdown",
   "id": "cb48f00c",
   "metadata": {},
   "source": [
    "Steps:\n",
    "1. Discretise drum activations to produce a probability vector\n",
    "2. Select target probability vector\n",
    "3. Weighted geometric mean of each component to produce resulting probabilities\n",
    "4. User selects threshold probaility to use in selecting from the estimated probability vector"
   ]
  },
  {
   "cell_type": "code",
   "execution_count": null,
   "id": "24afbcae",
   "metadata": {},
   "outputs": [],
   "source": [
    "SRC = \"rock2\"\n",
    "\n",
    "y_src, sr = librosa.load(f\"EXAMPLE_MUSIC/{SRC}.wav\", sr=44100)\n",
    "y_drums, _ = librosa.load(f\"PROCESSED/{SRC}/DRUMS/drums.wav\", sr=sr)"
   ]
  },
  {
   "cell_type": "code",
   "execution_count": null,
   "id": "e97811c2",
   "metadata": {},
   "outputs": [],
   "source": [
    "play(y_src, sr)\n",
    "play(y_drums, sr)"
   ]
  },
  {
   "cell_type": "code",
   "execution_count": null,
   "id": "8224ac4d",
   "metadata": {},
   "outputs": [],
   "source": [
    "downbeats = getDownbeats(f\"PROCESSED/{SRC}/source.wav\")"
   ]
  },
  {
   "cell_type": "code",
   "execution_count": null,
   "id": "666abd4f",
   "metadata": {},
   "outputs": [],
   "source": [
    "W, H, V, phi, net = getDecomposition(\n",
    "    y_drums, R=3, trainable_W=True, W=W_0, device=device,\n",
    ")"
   ]
  },
  {
   "cell_type": "code",
   "execution_count": null,
   "id": "8aff29f2",
   "metadata": {},
   "outputs": [],
   "source": [
    "plotDecomposition(W, H, V, sr=sr,)"
   ]
  },
  {
   "cell_type": "code",
   "execution_count": null,
   "id": "00f6e1e8",
   "metadata": {},
   "outputs": [],
   "source": [
    "ys = isolateSources(net, device=device, phi=phi)"
   ]
  },
  {
   "cell_type": "code",
   "execution_count": null,
   "id": "44cf2dee",
   "metadata": {},
   "outputs": [],
   "source": [
    "for y in ys:\n",
    "    play(y, sr)"
   ]
  },
  {
   "cell_type": "code",
   "execution_count": null,
   "id": "dccb243e",
   "metadata": {},
   "outputs": [],
   "source": [
    "Hs, y_bars = splitActivationsAndAudio(ys, H, downbeats, sr, )"
   ]
  },
  {
   "cell_type": "code",
   "execution_count": null,
   "id": "a2c9058d",
   "metadata": {},
   "outputs": [],
   "source": [
    "grids = drumGridFromHs(Hs, grid_size=48)\n",
    "grids = quantiseGrids(grids)\n",
    "p_a = np.mean(grids, axis=0)"
   ]
  },
  {
   "cell_type": "code",
   "execution_count": null,
   "id": "6a961b36",
   "metadata": {},
   "outputs": [],
   "source": [
    "plot_beat_grid(p_a);"
   ]
  },
  {
   "cell_type": "code",
   "execution_count": null,
   "id": "9f0849a5",
   "metadata": {},
   "outputs": [],
   "source": [
    "plt.plot(p_a[0])"
   ]
  },
  {
   "cell_type": "code",
   "execution_count": null,
   "id": "6d6d0eb9",
   "metadata": {},
   "outputs": [],
   "source": [
    "np.convolve()"
   ]
  },
  {
   "cell_type": "code",
   "execution_count": null,
   "id": "b1bd49ba",
   "metadata": {},
   "outputs": [],
   "source": [
    "p_a.take()"
   ]
  },
  {
   "cell_type": "code",
   "execution_count": null,
   "id": "a3f96188",
   "metadata": {},
   "outputs": [],
   "source": [
    "max_p = [np.max(np.take(p_a[0], np.arange(-3, 3)+i, mode=\"wrap\")) for i in range(len(p_a[0]))]"
   ]
  },
  {
   "cell_type": "code",
   "execution_count": null,
   "id": "c5958537",
   "metadata": {},
   "outputs": [],
   "source": [
    "plt.plot(max_p)"
   ]
  },
  {
   "cell_type": "code",
   "execution_count": null,
   "id": "19fff994",
   "metadata": {},
   "outputs": [],
   "source": []
  },
  {
   "cell_type": "code",
   "execution_count": null,
   "id": "6e02a675",
   "metadata": {},
   "outputs": [],
   "source": []
  },
  {
   "cell_type": "code",
   "execution_count": null,
   "id": "1de22918",
   "metadata": {},
   "outputs": [],
   "source": []
  },
  {
   "cell_type": "code",
   "execution_count": null,
   "id": "feae0cfb",
   "metadata": {},
   "outputs": [],
   "source": []
  }
 ],
 "metadata": {
  "kernelspec": {
   "display_name": "Python 3 (ipykernel)",
   "language": "python",
   "name": "python3"
  },
  "language_info": {
   "codemirror_mode": {
    "name": "ipython",
    "version": 3
   },
   "file_extension": ".py",
   "mimetype": "text/x-python",
   "name": "python",
   "nbconvert_exporter": "python",
   "pygments_lexer": "ipython3",
   "version": "3.9.10"
  }
 },
 "nbformat": 4,
 "nbformat_minor": 5
}
