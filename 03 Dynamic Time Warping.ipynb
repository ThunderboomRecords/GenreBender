{
 "cells": [
  {
   "cell_type": "markdown",
   "id": "826a4886",
   "metadata": {},
   "source": [
    "# 03 Dynamic Time Warping "
   ]
  },
  {
   "cell_type": "code",
   "execution_count": null,
   "id": "f30db2aa",
   "metadata": {},
   "outputs": [],
   "source": [
    "import os\n",
    "import sys\n",
    "print(sys.version)"
   ]
  },
  {
   "cell_type": "code",
   "execution_count": null,
   "id": "085aec30",
   "metadata": {},
   "outputs": [],
   "source": [
    "import joblib\n",
    "import warnings\n",
    "from importlib import reload\n",
    "\n",
    "import librosa\n",
    "from librosa import time_to_frames, time_to_samples, frames_to_time, frames_to_samples\n",
    "\n",
    "import numpy as np\n",
    "from scipy.signal import find_peaks\n",
    "import matplotlib.pyplot as plt"
   ]
  },
  {
   "cell_type": "code",
   "execution_count": null,
   "id": "65ea4b15",
   "metadata": {},
   "outputs": [],
   "source": [
    "sys.path.append('./COMMON_UTILS/')"
   ]
  },
  {
   "cell_type": "code",
   "execution_count": null,
   "id": "2cc23624",
   "metadata": {},
   "outputs": [],
   "source": [
    "from utils import play, plot_audio\n",
    "\n",
    "from drum_processor import getDownbeats\n",
    "\n",
    "import tempo_align\n",
    "reload(tempo_align)\n",
    "from tempo_align import matchAudioEvents"
   ]
  },
  {
   "cell_type": "code",
   "execution_count": null,
   "id": "87354048",
   "metadata": {},
   "outputs": [],
   "source": [
    "plt.rcParams['figure.figsize'] = (15, 5)"
   ]
  },
  {
   "cell_type": "markdown",
   "id": "7b702097",
   "metadata": {},
   "source": [
    "### Load Audio"
   ]
  },
  {
   "cell_type": "code",
   "execution_count": null,
   "id": "7061c693",
   "metadata": {},
   "outputs": [],
   "source": [
    "SRC = './PROCESSED/dem_bow/'\n",
    "\n",
    "DST = './PROCESSED/gary_numan_electric/'"
   ]
  },
  {
   "cell_type": "code",
   "execution_count": null,
   "id": "c558ac83",
   "metadata": {},
   "outputs": [],
   "source": [
    "y, sr = librosa.load(os.path.join(SRC, 'DRUMS/drums.wav'), sr=44100)"
   ]
  },
  {
   "cell_type": "code",
   "execution_count": null,
   "id": "af6ab1fe",
   "metadata": {},
   "outputs": [],
   "source": [
    "y_dst, _ = librosa.load(os.path.join(DST, 'DRUMS/drums.wav'), sr=sr)"
   ]
  },
  {
   "cell_type": "code",
   "execution_count": null,
   "id": "7adcc24f",
   "metadata": {},
   "outputs": [],
   "source": [
    "play(y, sr)\n",
    "plot_audio(y, sr);"
   ]
  },
  {
   "cell_type": "code",
   "execution_count": null,
   "id": "6db0efe7",
   "metadata": {},
   "outputs": [],
   "source": [
    "warnings.simplefilter(\"ignore\")\n",
    "\n",
    "db_src = getDownbeats(\n",
    "    os.path.join(SRC, 'source.wav'), \n",
    "    transition_lambda=64, \n",
    ")"
   ]
  },
  {
   "cell_type": "code",
   "execution_count": null,
   "id": "a6860829",
   "metadata": {},
   "outputs": [],
   "source": [
    "db_dst = getDownbeats(\n",
    "    os.path.join(DST, 'source.wav'), \n",
    "    transition_lambda=64, \n",
    ")"
   ]
  },
  {
   "cell_type": "markdown",
   "id": "db703b64",
   "metadata": {},
   "source": [
    "### Warp Tests "
   ]
  },
  {
   "cell_type": "code",
   "execution_count": null,
   "id": "c4ecba97",
   "metadata": {},
   "outputs": [],
   "source": [
    "y_warped = matchAudioEvents(y, sr, [0.0, 5.0, 10.0], [1.0, 7.5, 15.0], hq=True)"
   ]
  },
  {
   "cell_type": "code",
   "execution_count": null,
   "id": "78d13fbe",
   "metadata": {},
   "outputs": [],
   "source": [
    "plot_audio(y_warped)\n",
    "play(y_warped, sr)"
   ]
  },
  {
   "cell_type": "markdown",
   "id": "1c27f43f",
   "metadata": {},
   "source": [
    "### Event detection "
   ]
  },
  {
   "cell_type": "code",
   "execution_count": null,
   "id": "52ba943b",
   "metadata": {},
   "outputs": [],
   "source": [
    "harm, perc = librosa.decompose.hpss(librosa.stft(y))"
   ]
  },
  {
   "cell_type": "code",
   "execution_count": null,
   "id": "c1780d06",
   "metadata": {},
   "outputs": [],
   "source": [
    "y_harm, y_perc = librosa.griffinlim(harm), librosa.griffinlim(perc)"
   ]
  },
  {
   "cell_type": "code",
   "execution_count": null,
   "id": "97eb4c73",
   "metadata": {},
   "outputs": [],
   "source": [
    "play(y_harm, sr)\n",
    "play(y_perc, sr)"
   ]
  },
  {
   "cell_type": "code",
   "execution_count": null,
   "id": "ee4da99e",
   "metadata": {},
   "outputs": [],
   "source": [
    "def getRMSEvents(y, sr, hop_length=512):\n",
    "    rms = librosa.feature.rms(y, hop_length=hop_length)[0]\n",
    "    peaks, _ = find_peaks(rms, prominence=0.05)\n",
    "    events = frames_to_time(peaks, sr=sr, hop_length=hop_length)\n",
    "    \n",
    "    return events"
   ]
  },
  {
   "cell_type": "code",
   "execution_count": null,
   "id": "491a1513",
   "metadata": {},
   "outputs": [],
   "source": [
    "events_src = getRMSEvents(y, sr)\n",
    "events_dst = getRMSEvents(y_dst, sr)"
   ]
  },
  {
   "cell_type": "code",
   "execution_count": null,
   "id": "bb2ecc2c",
   "metadata": {},
   "outputs": [],
   "source": [
    "ax = plot_audio(y, sr)\n",
    "plt.plot(frames_to_time(np.arange(len(rms)), sr=sr), rms, c='black')\n",
    "for o in events_src:\n",
    "    ax.axvline(o, color='red')\n",
    "for d in db_src:\n",
    "    ax.axvline(d, color=\"green\")"
   ]
  },
  {
   "cell_type": "code",
   "execution_count": null,
   "id": "3d2bc782",
   "metadata": {},
   "outputs": [],
   "source": [
    "def collectBarEvents(events, db, gs=48):\n",
    "    bars = np.zeros((len(db) - 1, gs))\n",
    "    for i in range(len(db) - 1):\n",
    "        start = db[i]\n",
    "        end = db[i+1]\n",
    "        length = end - start\n",
    "        b_onsets = events[np.where(np.logical_and(events >= start, events < end))]\n",
    "        b_onsets -= start\n",
    "        b_onsets /= length\n",
    "        b_onsets = np.floor(b_onsets * gs).astype(int)\n",
    "        \n",
    "        bars[i, b_onsets] = 1.0\n",
    "\n",
    "    return bars"
   ]
  },
  {
   "cell_type": "code",
   "execution_count": null,
   "id": "bba6ef22",
   "metadata": {},
   "outputs": [],
   "source": [
    "b_events_src = collectBarEvents(events_src, db_src)"
   ]
  },
  {
   "cell_type": "code",
   "execution_count": null,
   "id": "768cc69f",
   "metadata": {},
   "outputs": [],
   "source": [
    "plt.plot(b_events_src.sum(0))\n",
    "plt.xlim(0, 48);"
   ]
  },
  {
   "cell_type": "code",
   "execution_count": null,
   "id": "34cb6817",
   "metadata": {},
   "outputs": [],
   "source": [
    "b_events_dst = collectBarEvents(events_dst, db_dst)"
   ]
  },
  {
   "cell_type": "code",
   "execution_count": null,
   "id": "c114c3eb",
   "metadata": {},
   "outputs": [],
   "source": [
    "plt.plot(b_events_dst.sum(0))\n",
    "plt.xlim(0, 48);"
   ]
  },
  {
   "cell_type": "code",
   "execution_count": null,
   "id": "cd528ce1",
   "metadata": {},
   "outputs": [],
   "source": []
  },
  {
   "cell_type": "code",
   "execution_count": null,
   "id": "32c8902c",
   "metadata": {},
   "outputs": [],
   "source": []
  },
  {
   "cell_type": "code",
   "execution_count": null,
   "id": "cdfa5d25",
   "metadata": {},
   "outputs": [],
   "source": []
  },
  {
   "cell_type": "code",
   "execution_count": null,
   "id": "25ecfeaa",
   "metadata": {},
   "outputs": [],
   "source": []
  },
  {
   "cell_type": "code",
   "execution_count": null,
   "id": "476e880b",
   "metadata": {},
   "outputs": [],
   "source": []
  },
  {
   "cell_type": "code",
   "execution_count": null,
   "id": "f1d51d39",
   "metadata": {},
   "outputs": [],
   "source": []
  },
  {
   "cell_type": "code",
   "execution_count": null,
   "id": "9f235de2",
   "metadata": {},
   "outputs": [],
   "source": []
  },
  {
   "cell_type": "code",
   "execution_count": null,
   "id": "77c9b59c",
   "metadata": {},
   "outputs": [],
   "source": []
  },
  {
   "cell_type": "code",
   "execution_count": null,
   "id": "e0656969",
   "metadata": {},
   "outputs": [],
   "source": []
  },
  {
   "cell_type": "code",
   "execution_count": null,
   "id": "29f8d4c8",
   "metadata": {},
   "outputs": [],
   "source": []
  }
 ],
 "metadata": {
  "kernelspec": {
   "display_name": "Python 3 (ipykernel)",
   "language": "python",
   "name": "python3"
  },
  "language_info": {
   "codemirror_mode": {
    "name": "ipython",
    "version": 3
   },
   "file_extension": ".py",
   "mimetype": "text/x-python",
   "name": "python",
   "nbconvert_exporter": "python",
   "pygments_lexer": "ipython3",
   "version": "3.9.10"
  }
 },
 "nbformat": 4,
 "nbformat_minor": 5
}
