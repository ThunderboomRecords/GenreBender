{
 "cells": [
  {
   "cell_type": "markdown",
   "id": "e8c2eb76",
   "metadata": {},
   "source": [
    "# Rhythm Interpolation Methods "
   ]
  },
  {
   "cell_type": "code",
   "execution_count": null,
   "id": "00732b83",
   "metadata": {},
   "outputs": [],
   "source": [
    "import os\n",
    "import sys\n",
    "print(sys.version)"
   ]
  },
  {
   "cell_type": "code",
   "execution_count": null,
   "id": "024c1945",
   "metadata": {},
   "outputs": [],
   "source": [
    "import warnings\n",
    "\n",
    "import joblib\n",
    "\n",
    "import numpy as np\n",
    "from scipy.signal import find_peaks\n",
    "import matplotlib.pyplot as plt"
   ]
  },
  {
   "cell_type": "code",
   "execution_count": null,
   "id": "9d63684a",
   "metadata": {},
   "outputs": [],
   "source": [
    "sys.path.append('./COMMON_UTILS/')"
   ]
  },
  {
   "cell_type": "code",
   "execution_count": null,
   "id": "18637f50",
   "metadata": {},
   "outputs": [],
   "source": [
    "from wasserstein_transformations import SmoothTransform"
   ]
  },
  {
   "cell_type": "code",
   "execution_count": null,
   "id": "9fed04a5",
   "metadata": {},
   "outputs": [],
   "source": [
    "warnings.simplefilter(\"ignore\")\n",
    "plt.rcParams['figure.figsize'] = (15, 5)"
   ]
  },
  {
   "cell_type": "markdown",
   "id": "466fa9b8",
   "metadata": {},
   "source": [
    "### Threshold Transformation "
   ]
  },
  {
   "cell_type": "code",
   "execution_count": null,
   "id": "ee7f2758",
   "metadata": {},
   "outputs": [],
   "source": [
    "src, dst = joblib.load('./activations.pkl')"
   ]
  },
  {
   "cell_type": "code",
   "execution_count": null,
   "id": "77f0e877",
   "metadata": {},
   "outputs": [],
   "source": [
    "plt.plot(src[0, :])\n",
    "plt.plot(dst[0, :]);"
   ]
  },
  {
   "cell_type": "code",
   "execution_count": null,
   "id": "9fc8163b",
   "metadata": {},
   "outputs": [],
   "source": [
    "t = np.linspace(0, 1, 50)\n",
    "src_t = np.power(1-t, 2)\n",
    "dst_t = np.power(t, 2)\n",
    "\n",
    "plt.plot(src_t)\n",
    "plt.plot(dst_t)\n",
    "plt.show()"
   ]
  },
  {
   "cell_type": "markdown",
   "id": "aebe31fb",
   "metadata": {},
   "source": [
    "#### Activation resynthesis "
   ]
  },
  {
   "cell_type": "code",
   "execution_count": null,
   "id": "6bcafd96",
   "metadata": {},
   "outputs": [],
   "source": [
    "act = src[2, :200]\n",
    "act /= act.max()\n",
    "peaks, peaks_info = find_peaks(np.insert(act, 0, 0), distance=2, prominence=0.05)\n",
    "peaks -= 1"
   ]
  },
  {
   "cell_type": "code",
   "execution_count": null,
   "id": "0538db0e",
   "metadata": {},
   "outputs": [],
   "source": [
    "from findpeaks import findpeaks"
   ]
  },
  {
   "cell_type": "code",
   "execution_count": null,
   "id": "74231784",
   "metadata": {},
   "outputs": [],
   "source": [
    "fp = findpeaks(lookahead=3, method='topology', verbose=0)"
   ]
  },
  {
   "cell_type": "code",
   "execution_count": null,
   "id": "790819d7",
   "metadata": {},
   "outputs": [],
   "source": [
    "data = fp.fit(np.insert(act, 0, 0))"
   ]
  },
  {
   "cell_type": "code",
   "execution_count": null,
   "id": "2f558b62",
   "metadata": {},
   "outputs": [],
   "source": [
    "data['df']['labx'] = data['df']['labx'].astype(int)"
   ]
  },
  {
   "cell_type": "code",
   "execution_count": null,
   "id": "6ca52cbf",
   "metadata": {},
   "outputs": [],
   "source": [
    "groups = data['df'].groupby(\"labx\")"
   ]
  },
  {
   "cell_type": "code",
   "execution_count": null,
   "id": "8186953f",
   "metadata": {},
   "outputs": [],
   "source": [
    "data['df']"
   ]
  },
  {
   "cell_type": "code",
   "execution_count": null,
   "id": "83505c49",
   "metadata": {},
   "outputs": [],
   "source": [
    "peak_heights = groups['y'].max()\n",
    "peak_score = groups['score'].max()\n",
    "peak_idxs = groups.indices\n",
    "peak_lengths = dict([(i, len(a)) for i, a in peak_idxs.items()])"
   ]
  },
  {
   "cell_type": "code",
   "execution_count": null,
   "id": "1f5007fa",
   "metadata": {},
   "outputs": [],
   "source": [
    "candidate_peaks = np.where(peak_heights > peak_heights.max()/2)\n",
    "candidate_peaks = "
   ]
  },
  {
   "cell_type": "code",
   "execution_count": null,
   "id": "cfbc6635",
   "metadata": {},
   "outputs": [],
   "source": [
    "peak_idxs"
   ]
  },
  {
   "cell_type": "code",
   "execution_count": null,
   "id": "123896f6",
   "metadata": {},
   "outputs": [],
   "source": [
    "fp.plot()"
   ]
  },
  {
   "cell_type": "code",
   "execution_count": null,
   "id": "e10cb596",
   "metadata": {},
   "outputs": [],
   "source": [
    "act_r = np.zeros_like(act)\n",
    "\n",
    "t = 0.8\n",
    "\n",
    "for i in peak_idxs.keys():\n",
    "    if peak_score[i] < 0.2:\n",
    "        continue\n",
    "    \n",
    "    if peak_heights[i] < t:\n",
    "        continue\n",
    "        \n",
    "    act_r[peak_idxs[i]-1] = act[peak_idxs[i]-1]"
   ]
  },
  {
   "cell_type": "code",
   "execution_count": null,
   "id": "1ff75308",
   "metadata": {},
   "outputs": [],
   "source": [
    "plt.plot(act_r)"
   ]
  },
  {
   "cell_type": "code",
   "execution_count": null,
   "id": "727b6ef0",
   "metadata": {},
   "outputs": [],
   "source": []
  },
  {
   "cell_type": "code",
   "execution_count": null,
   "id": "95129036",
   "metadata": {},
   "outputs": [],
   "source": []
  },
  {
   "cell_type": "code",
   "execution_count": null,
   "id": "31e2af69",
   "metadata": {},
   "outputs": [],
   "source": []
  },
  {
   "cell_type": "code",
   "execution_count": null,
   "id": "e3afc91e",
   "metadata": {},
   "outputs": [],
   "source": []
  },
  {
   "cell_type": "code",
   "execution_count": null,
   "id": "9dad1041",
   "metadata": {},
   "outputs": [],
   "source": [
    "peaks_info"
   ]
  },
  {
   "cell_type": "code",
   "execution_count": null,
   "id": "875faf22",
   "metadata": {},
   "outputs": [],
   "source": [
    "plt.plot(act, marker='.')\n",
    "plt.scatter(peaks, act[peaks])\n",
    "for i in range(len(peaks_info['left_bases'])):\n",
    "    left = peaks_info['left_bases'][i]\n",
    "    right = peaks_info['right_bases'][i]\n",
    "#     plt.axvspan(left, right, alpha=0.3)\n",
    "    plt.plot([left, right], [act[peaks[i]]]*2,)"
   ]
  },
  {
   "cell_type": "code",
   "execution_count": null,
   "id": "e20785ec",
   "metadata": {},
   "outputs": [],
   "source": [
    "def makePeak(height):\n",
    "    atk = np.power(np.linspace(0, 1, 3), 6) * height\n",
    "    dec = np.power(np.linspace(1, 0, 4), 6) * height\n",
    "    \n",
    "    peak = np.concatenate([atk, dec[1:]])\n",
    "    return peak, len(atk) - 1"
   ]
  },
  {
   "cell_type": "code",
   "execution_count": null,
   "id": "cf298886",
   "metadata": {},
   "outputs": [],
   "source": [
    "act_h = np.zeros_like(act)\n",
    "\n",
    "for p in peaks:\n",
    "    h = act[p]\n",
    "    peak_h, idx_offset = makePeak(h)\n",
    "    \n",
    "    start = p - idx_offset\n",
    "    if start < 0:\n",
    "        peak_h = peak_h[-start:]\n",
    "        start = 0\n",
    "        \n",
    "    length = min(len(peak_h), len(act_h) - start)    \n",
    "    end = start + length\n",
    "    \n",
    "    act_h[start:end] += peak_h[:length]\n",
    "    \n",
    "plt.plot(act)\n",
    "plt.plot(act_h)\n",
    "plt.show()"
   ]
  },
  {
   "cell_type": "code",
   "execution_count": null,
   "id": "f3bf0e20",
   "metadata": {},
   "outputs": [],
   "source": [
    "class SmoothTransition:\n",
    "    def __init__(self, src, trg):\n",
    "        assert src.shape == trg.shape\n",
    "        \n",
    "        self.src = src / src.max()\n",
    "        self.trg = trg / trg.max()\n",
    "        \n",
    "        self.src_peaks, _ = find_peaks(np.insert(self.src, 0, 0), distance=2, prominence=0.01)\n",
    "        self.trg_peaks, _ = find_peaks(np.insert(self.trg, 0, 0), distance=2, prominence=0.01)\n",
    "        \n",
    "        self.src_peaks -= 1\n",
    "        self.trg_peaks -= 1\n",
    "    \n",
    "    def transform(self, t):\n",
    "        t = min(max(t, 0.0), 1.0)\n",
    "\n",
    "        peaks_src = self.src_peaks[np.where(self.src[self.src_peaks] >= t)]\n",
    "        peaks_trg = self.trg_peaks[np.where(self.trg[self.trg_peaks] <= t)]\n",
    "        \n",
    "        act_t = np.zeros_like(self.src)\n",
    "        \n",
    "        for ps in peaks_src:\n",
    "            act_t = self.add_peak(act_t, ps, self.src[ps])\n",
    "            \n",
    "        for pt in peaks_trg:\n",
    "            act_t = self.add_peak(act_t, pt, self.trg[pt])\n",
    "            \n",
    "        return act_t\n",
    "    \n",
    "    __call__ = transform\n",
    "            \n",
    "    @staticmethod\n",
    "    def add_peak(a, p, h):\n",
    "        peak_h, idx_offset = SmoothTransition.makePeak(h)\n",
    "\n",
    "        start = p - idx_offset\n",
    "        if start < 0:\n",
    "            peak_h = peak_h[-start:]\n",
    "            start = 0\n",
    "\n",
    "        length = min(len(peak_h), len(a) - start)    \n",
    "        end = start + length\n",
    "\n",
    "        a[start:end] += peak_h[:length]\n",
    "        return a\n",
    "    \n",
    "    @staticmethod\n",
    "    def makePeak(height):\n",
    "        atk = np.power(np.linspace(0, 1, 3), 6) * height\n",
    "        dec = np.power(np.linspace(1, 0, 4), 6) * height\n",
    "\n",
    "        peak = np.concatenate([atk, dec[1:]])\n",
    "        return peak, len(atk) - 1"
   ]
  },
  {
   "cell_type": "code",
   "execution_count": null,
   "id": "d3f2b8a3",
   "metadata": {},
   "outputs": [],
   "source": [
    "sm = SmoothTransition(src[0], dst[0])"
   ]
  },
  {
   "cell_type": "code",
   "execution_count": null,
   "id": "9985e78b",
   "metadata": {},
   "outputs": [],
   "source": [
    "act_h = sm(0.5)\n",
    "plt.plot(src[1]/src[1].max())\n",
    "plt.plot(dst[1]/dst[1].max())\n",
    "plt.plot(act_h);"
   ]
  },
  {
   "cell_type": "code",
   "execution_count": null,
   "id": "8c8f3823",
   "metadata": {},
   "outputs": [],
   "source": [
    "plt.plot(sm.src)\n",
    "\n",
    "offset = 1\n",
    "for t in np.linspace(0, 1, 5):\n",
    "    a = sm(t)\n",
    "    plt.plot(a - offset*1.1, c='k')\n",
    "    offset += 1\n",
    "    \n",
    "plt.plot(sm.trg - offset*1.1)\n",
    "plt.show()"
   ]
  },
  {
   "cell_type": "code",
   "execution_count": null,
   "id": "14b575ff",
   "metadata": {},
   "outputs": [],
   "source": []
  },
  {
   "cell_type": "code",
   "execution_count": null,
   "id": "117ddfcb",
   "metadata": {},
   "outputs": [],
   "source": []
  },
  {
   "cell_type": "code",
   "execution_count": null,
   "id": "932c8936",
   "metadata": {},
   "outputs": [],
   "source": []
  },
  {
   "cell_type": "markdown",
   "id": "23d9d04f",
   "metadata": {},
   "source": [
    "### Wasserstein Transformation "
   ]
  },
  {
   "cell_type": "code",
   "execution_count": null,
   "id": "b97a3b63",
   "metadata": {},
   "outputs": [],
   "source": [
    "k = 300\n",
    "\n",
    "ps, qs = src[0][:k], dst[0][:k]\n",
    "ps, qs = ps/ps.sum(), qs/qs.sum()"
   ]
  },
  {
   "cell_type": "code",
   "execution_count": null,
   "id": "2ae95115",
   "metadata": {},
   "outputs": [],
   "source": [
    "sm = SmoothTransform(steps=5)"
   ]
  },
  {
   "cell_type": "code",
   "execution_count": null,
   "id": "ecb8797e",
   "metadata": {},
   "outputs": [],
   "source": [
    "trans = sm.transform(ps, qs)"
   ]
  },
  {
   "cell_type": "code",
   "execution_count": null,
   "id": "02288080",
   "metadata": {},
   "outputs": [],
   "source": [
    "sm.plot_transform(trans, source=ps, target=qs)"
   ]
  },
  {
   "cell_type": "code",
   "execution_count": null,
   "id": "1efb8c7e",
   "metadata": {},
   "outputs": [],
   "source": [
    "trans.shape"
   ]
  },
  {
   "cell_type": "code",
   "execution_count": null,
   "id": "3b97338f",
   "metadata": {},
   "outputs": [],
   "source": []
  },
  {
   "cell_type": "code",
   "execution_count": null,
   "id": "63adb8a5",
   "metadata": {},
   "outputs": [],
   "source": []
  },
  {
   "cell_type": "markdown",
   "id": "fb443ffa",
   "metadata": {},
   "source": [
    "### Custom Mehtod "
   ]
  },
  {
   "cell_type": "code",
   "execution_count": null,
   "id": "17ee4e7e",
   "metadata": {},
   "outputs": [],
   "source": [
    "v0 = np.zeros(12)\n",
    "v0[1] = 0.5\n",
    "v0[6] = 0.5\n",
    "\n",
    "v1 = np.zeros(12)\n",
    "v1[3] = 0.5\n",
    "v1[9] = 0.5"
   ]
  },
  {
   "cell_type": "code",
   "execution_count": null,
   "id": "4be9ff26",
   "metadata": {},
   "outputs": [],
   "source": [
    "plt.plot(v0)\n",
    "plt.plot(v1+0.01);"
   ]
  },
  {
   "cell_type": "code",
   "execution_count": null,
   "id": "079c962a",
   "metadata": {},
   "outputs": [],
   "source": [
    "T = np.zeros((12, 12))\n",
    "T[1, 3] = 0.5\n",
    "T[6, 9] = 0.5"
   ]
  },
  {
   "cell_type": "code",
   "execution_count": null,
   "id": "bfe5b478",
   "metadata": {},
   "outputs": [],
   "source": [
    "plt.matshow(T);"
   ]
  },
  {
   "cell_type": "code",
   "execution_count": null,
   "id": "66434398",
   "metadata": {},
   "outputs": [],
   "source": [
    "def interp(v0, v1, T, p):\n",
    "    vp = np.zeros_like(v0)\n",
    "    for i in range(len(vp)):\n",
    "        js = np.where(T[i] > 0)[0]\n",
    "        for j in js:\n",
    "            j_p = int(p * j + (1-p)*i)\n",
    "            vp[j_p] += T[i, j]\n",
    "            \n",
    "    return vp"
   ]
  },
  {
   "cell_type": "code",
   "execution_count": null,
   "id": "4c46b396",
   "metadata": {},
   "outputs": [],
   "source": [
    "for i, p in enumerate(np.linspace(0, 1, 5)):\n",
    "    plt.plot(interp(v0, v1, T, p)+0.01*i, label=p)\n",
    "    \n",
    "plt.legend()\n",
    "plt.show()"
   ]
  },
  {
   "cell_type": "code",
   "execution_count": null,
   "id": "1a296c49",
   "metadata": {},
   "outputs": [],
   "source": []
  },
  {
   "cell_type": "code",
   "execution_count": null,
   "id": "1c2787d1",
   "metadata": {},
   "outputs": [],
   "source": []
  },
  {
   "cell_type": "code",
   "execution_count": null,
   "id": "2c5712e2",
   "metadata": {},
   "outputs": [],
   "source": []
  },
  {
   "cell_type": "code",
   "execution_count": null,
   "id": "64d17f0f",
   "metadata": {},
   "outputs": [],
   "source": []
  },
  {
   "cell_type": "code",
   "execution_count": null,
   "id": "0709068f",
   "metadata": {},
   "outputs": [],
   "source": []
  },
  {
   "cell_type": "code",
   "execution_count": null,
   "id": "e4d61d0b",
   "metadata": {},
   "outputs": [],
   "source": []
  },
  {
   "cell_type": "code",
   "execution_count": null,
   "id": "7712e053",
   "metadata": {},
   "outputs": [],
   "source": []
  }
 ],
 "metadata": {
  "kernelspec": {
   "display_name": "Python 3 (ipykernel)",
   "language": "python",
   "name": "python3"
  },
  "language_info": {
   "codemirror_mode": {
    "name": "ipython",
    "version": 3
   },
   "file_extension": ".py",
   "mimetype": "text/x-python",
   "name": "python",
   "nbconvert_exporter": "python",
   "pygments_lexer": "ipython3",
   "version": "3.9.10"
  }
 },
 "nbformat": 4,
 "nbformat_minor": 5
}
