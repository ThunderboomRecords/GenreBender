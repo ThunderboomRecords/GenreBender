{
 "cells": [
  {
   "cell_type": "markdown",
   "id": "16c75861",
   "metadata": {},
   "source": [
    "# 04 Swing Detection "
   ]
  },
  {
   "cell_type": "code",
   "execution_count": null,
   "id": "89942a0e",
   "metadata": {},
   "outputs": [],
   "source": [
    "import os\n",
    "import sys\n",
    "print(sys.version)"
   ]
  },
  {
   "cell_type": "code",
   "execution_count": null,
   "id": "21776a03",
   "metadata": {},
   "outputs": [],
   "source": [
    "import warnings\n",
    "import pickle as pkl\n",
    "from importlib import reload\n",
    "\n",
    "import librosa\n",
    "from librosa import time_to_frames, time_to_samples, frames_to_time, frames_to_samples\n",
    "\n",
    "import numpy as np\n",
    "from scipy.signal import find_peaks\n",
    "import matplotlib.pyplot as plt"
   ]
  },
  {
   "cell_type": "code",
   "execution_count": null,
   "id": "2cf9bea1",
   "metadata": {},
   "outputs": [],
   "source": [
    "sys.path.append('./COMMON_UTILS/')"
   ]
  },
  {
   "cell_type": "code",
   "execution_count": null,
   "id": "114e955f",
   "metadata": {},
   "outputs": [],
   "source": [
    "from utils import play, plot_audio\n",
    "\n",
    "from drum_processor import getDownbeats\n",
    "\n",
    "from tempo_align import matchAudioEvents"
   ]
  },
  {
   "cell_type": "code",
   "execution_count": null,
   "id": "e384c805",
   "metadata": {},
   "outputs": [],
   "source": [
    "plt.rcParams['figure.figsize'] = (15, 5)"
   ]
  },
  {
   "cell_type": "code",
   "execution_count": null,
   "id": "f1b813c5",
   "metadata": {},
   "outputs": [],
   "source": [
    "hop_length=256"
   ]
  },
  {
   "cell_type": "code",
   "execution_count": null,
   "id": "38a67083",
   "metadata": {},
   "outputs": [],
   "source": [
    "SRC = './PROCESSED/jazz3/'\n",
    "# y, sr = librosa.load(os.path.join(SRC, 'DRUMS/drums.wav'), sr=44100)\n",
    "y, sr = librosa.load(os.path.join(SRC, 'source.wav'), sr=44100)\n",
    "rms_src = librosa.feature.rms(y=y, hop_length=hop_length)[0]\n",
    "play(y, sr)"
   ]
  },
  {
   "cell_type": "code",
   "execution_count": null,
   "id": "8bfe71bb",
   "metadata": {},
   "outputs": [],
   "source": [
    "DST = './PROCESSED/rock2/'\n",
    "# y_dst, sr = librosa.load(os.path.join(DST, 'DRUMS/drums.wav'), sr=44100)\n",
    "y_dst, _ = librosa.load(os.path.join(DST, 'source.wav'), sr=sr)\n",
    "rms_dst = librosa.feature.rms(y=y_dst, hop_length=hop_length)[0]\n",
    "play(y_dst, sr)"
   ]
  },
  {
   "cell_type": "code",
   "execution_count": null,
   "id": "f2909757",
   "metadata": {},
   "outputs": [],
   "source": [
    "def findDownbeats(p):\n",
    "    try:\n",
    "        with open(os.path.join(p, 'downbeats.pkl'), 'rb') as f:\n",
    "            db = pkl.load(f)\n",
    "        print('found downbeats.pkl')\n",
    "    except FileNotFoundError:\n",
    "        print('computing downbeats')\n",
    "        db = getDownbeats(\n",
    "            os.path.join(p, 'source.wav'), \n",
    "            transition_lambda=64, \n",
    "        )\n",
    "\n",
    "        with open(os.path.join(p, 'downbeats.pkl'), 'wb') as f:\n",
    "            pkl.dump(db, f)\n",
    "            \n",
    "    return db"
   ]
  },
  {
   "cell_type": "code",
   "execution_count": null,
   "id": "7d2324d2",
   "metadata": {},
   "outputs": [],
   "source": [
    "db_src = findDownbeats(SRC)\n",
    "db_dst = findDownbeats(DST)"
   ]
  },
  {
   "cell_type": "code",
   "execution_count": null,
   "id": "fef0841e",
   "metadata": {},
   "outputs": [],
   "source": [
    "plot_audio(y, sr);\n",
    "# plt.plot(\n",
    "#     librosa.frames_to_time(np.arange(len(rms_src)) - 1, sr=sr, hop_length=hop_length), \n",
    "#     rms_src, \n",
    "#     c='k'\n",
    "# );\n",
    "for d in db_src:\n",
    "    plt.axvline(d, color='r')\n",
    "\n",
    "beats = []\n",
    "for i in range(len(db_src) - 1):\n",
    "    beats.extend(np.linspace(db_src[i], db_src[i+1], 4, endpoint=False))\n",
    "beats = np.array(beats)\n",
    "\n",
    "for b in beats:\n",
    "    plt.axvline(b, color='k', ls='--', lw=1)"
   ]
  },
  {
   "cell_type": "markdown",
   "id": "48ca3b92",
   "metadata": {},
   "source": [
    "## Development "
   ]
  },
  {
   "cell_type": "code",
   "execution_count": null,
   "id": "4c71e024",
   "metadata": {},
   "outputs": [],
   "source": [
    "beats_rms = []\n",
    "beats_frames = librosa.time_to_frames(beats, sr=sr, hop_length=hop_length)\n",
    "for start, end in zip(beats_frames[:-1], beats_frames[1:]):\n",
    "    beats_rms.append(rms_src[start:end])"
   ]
  },
  {
   "cell_type": "code",
   "execution_count": null,
   "id": "79ea18b4",
   "metadata": {},
   "outputs": [],
   "source": [
    "length = min(map(len, beats_rms))\n",
    "beat_energy = np.mean(\n",
    "    np.stack(\n",
    "        [b[:length] for b in beats_rms]\n",
    "    ),\n",
    "    axis=0\n",
    ")\n",
    "peaks, _ = find_peaks(beat_energy, height=0.01, prominence=0.005)"
   ]
  },
  {
   "cell_type": "code",
   "execution_count": null,
   "id": "c9e97712",
   "metadata": {},
   "outputs": [],
   "source": [
    "peaks"
   ]
  },
  {
   "cell_type": "code",
   "execution_count": null,
   "id": "292f65ae",
   "metadata": {},
   "outputs": [],
   "source": [
    "t = np.linspace(0, 1, len(beat_energy))\n",
    "# plt.plot(t, beat_energy);\n",
    "# plt.scatter(t[peak00s], beat_energy[peaks]);"
   ]
  },
  {
   "cell_type": "code",
   "execution_count": null,
   "id": "7162da53",
   "metadata": {},
   "outputs": [],
   "source": [
    "plt.plot(t, np.roll(beat_energy, -peaks[0]));\n",
    "plt.scatter(t[peaks-peaks[0]], beat_energy[peaks]);"
   ]
  },
  {
   "cell_type": "code",
   "execution_count": null,
   "id": "8baa55b2",
   "metadata": {},
   "outputs": [],
   "source": [
    "for p in peaks[1:]:\n",
    "    swing = (p - peaks[0]) / len(beat_energy)\n",
    "    swing = round(swing, 2)\n",
    "    if abs(swing - 0.5) < 0.05:\n",
    "        swing = 0.5\n",
    "        \n",
    "    print(f'swing: {swing:.2%}')"
   ]
  },
  {
   "cell_type": "markdown",
   "id": "e9f98b18",
   "metadata": {},
   "source": [
    "## Pipeline "
   ]
  },
  {
   "cell_type": "code",
   "execution_count": null,
   "id": "41875e43",
   "metadata": {},
   "outputs": [],
   "source": [
    "def getBeatTimes(db, n=4):\n",
    "    beats = []\n",
    "    for i in range(len(db) - 1):\n",
    "        beats.extend(np.linspace(db[i], db[i+1], n, endpoint=False))\n",
    "    beats = np.array(beats)\n",
    "    \n",
    "    return beats"
   ]
  },
  {
   "cell_type": "code",
   "execution_count": null,
   "id": "952a121c",
   "metadata": {},
   "outputs": [],
   "source": [
    "def getSwingPoints(y, sr, db, hop_length=256):\n",
    "    beats = getBeatTimes(db)\n",
    "        \n",
    "    rms = librosa.feature.rms(y=y, hop_length=hop_length)[0]\n",
    "    beats_rms = []\n",
    "    beats_frames = time_to_frames(beats, sr=sr, hop_length=hop_length)\n",
    "    for start, end in zip(beats_frames[:-1], beats_frames[1:]):\n",
    "        beats_rms.append(rms[start:end])\n",
    "        \n",
    "    length = min(map(len, beats_rms))\n",
    "    beat_energy = np.mean(\n",
    "        np.stack(\n",
    "            [b[:length] for b in beats_rms]\n",
    "        ),\n",
    "        axis=0\n",
    "    )\n",
    "\n",
    "    peaks, _ = find_peaks(beat_energy, height=0.03, prominence=0.005)\n",
    "    \n",
    "    points = []\n",
    "    for p in peaks:\n",
    "        swing = (p - peaks[0]) / length\n",
    "        if abs(swing-0.5) < 0.05:\n",
    "            swing = 0.5\n",
    "            \n",
    "        swing = round(swing, 2)\n",
    "        points.append(swing)\n",
    "        \n",
    "    if len(points) == 1:\n",
    "        points.append(0.5)\n",
    "        \n",
    "    return points"
   ]
  },
  {
   "cell_type": "code",
   "execution_count": null,
   "id": "c2cb99b0",
   "metadata": {},
   "outputs": [],
   "source": [
    "def plotSwingmap(a, b, map_=None):\n",
    "    fig, ax = plt.subplots(figsize=(15, 1))\n",
    "    ax.plot(a, np.zeros_like(a)+1, marker='o', ls='', ms=15, c='k')\n",
    "    ax.plot(b, np.zeros_like(b), marker='o', ls='', ms=15, c='k')\n",
    "    ax.set_xlim(0, 1); ax.set_ylim(-0.2, 1.2); \n",
    "    ax.set_yticks([0, 1]); ax.set_yticklabels(['to', 'from']);\n",
    "    if map_ is not None:\n",
    "        for m in map_:\n",
    "            ax.arrow(m[0], 1, m[1]-m[0], -1, color='red', ls=':', lw=1)"
   ]
  },
  {
   "cell_type": "code",
   "execution_count": null,
   "id": "f4f91dc8",
   "metadata": {},
   "outputs": [],
   "source": [
    "def getSwingMap(a, b):\n",
    "    a = np.array(a)\n",
    "    b = np.array(b)\n",
    "    map_ = []\n",
    "    if len(a) == len(b):\n",
    "        for x, y in zip(a, b):\n",
    "            map_.append((x, y))\n",
    "    elif len(a) < len(b):\n",
    "        for x in a:\n",
    "            y = b[np.argmin(np.abs(b - x))]\n",
    "            map_.append((x, y))\n",
    "    else:\n",
    "        for y in b:\n",
    "            x = a[np.argmin(np.abs(a - y))]\n",
    "            map_.append((x, y))\n",
    "    \n",
    "    return map_"
   ]
  },
  {
   "cell_type": "code",
   "execution_count": null,
   "id": "656f23a5",
   "metadata": {},
   "outputs": [],
   "source": [
    "points_src = getSwingPoints(y, sr, db_src, hop_length=hop_length)\n",
    "points_dst = getSwingPoints(y_dst, sr, db_dst, hop_length=hop_length)"
   ]
  },
  {
   "cell_type": "code",
   "execution_count": null,
   "id": "1afc3bb5",
   "metadata": {},
   "outputs": [],
   "source": [
    "points_src, points_dst"
   ]
  },
  {
   "cell_type": "code",
   "execution_count": null,
   "id": "bb0e8dbb",
   "metadata": {},
   "outputs": [],
   "source": [
    "map_ = getSwingMap(points_dst, points_src)\n",
    "print(map_)\n",
    "plotSwingmap(points_dst, points_src, map_)"
   ]
  },
  {
   "cell_type": "code",
   "execution_count": null,
   "id": "49f1c030",
   "metadata": {},
   "outputs": [],
   "source": [
    "def getSwingTimings(db, map_):\n",
    "    beats = getBeatTimes(db)\n",
    "    \n",
    "    points_from = []\n",
    "    points_to = []\n",
    "    \n",
    "    for i in range(len(beats) - 1):\n",
    "        dt = beats[i+1] - beats[i]\n",
    "        for m in map_:\n",
    "            points_from.append(beats[i] + dt * m[0])\n",
    "            points_to.append(beats[i] + dt * m[1])\n",
    "            \n",
    "    return points_from, points_to"
   ]
  },
  {
   "cell_type": "code",
   "execution_count": null,
   "id": "f1595e66",
   "metadata": {},
   "outputs": [],
   "source": [
    "points_from, points_to = getSwingTimings(db_dst, map_)"
   ]
  },
  {
   "cell_type": "code",
   "execution_count": null,
   "id": "0dd9c7c1",
   "metadata": {},
   "outputs": [],
   "source": [
    "fig, ax = plt.subplots()   \n",
    "ax.vlines(db_dst, 0, 1, color='k')\n",
    "ax.vlines(points_from, 0.5, 1.0, color='red', ls=':', lw=1)\n",
    "ax.vlines(points_to, 0.0, 0.5, color='blue', ls=':', lw=1)\n",
    "    \n",
    "ax.set_xlim(0, 4)"
   ]
  },
  {
   "cell_type": "code",
   "execution_count": null,
   "id": "9fccbf7a",
   "metadata": {},
   "outputs": [],
   "source": [
    "y_warped = matchAudioEvents(y_dst, sr, points_from, points_to, hq=True)"
   ]
  },
  {
   "cell_type": "code",
   "execution_count": null,
   "id": "c7f02c45",
   "metadata": {},
   "outputs": [],
   "source": [
    "play(y, sr)\n",
    "play(y_dst, sr)\n",
    "play(y_warped, sr)"
   ]
  },
  {
   "cell_type": "code",
   "execution_count": null,
   "id": "3ec93e4c",
   "metadata": {},
   "outputs": [],
   "source": [
    "fig, axes = plt.subplots(2, sharex=True)\n",
    "plot_audio(y_dst, sr, ax=axes[0])\n",
    "axes[0].vlines(points_from, -0.5, 0.5, color='red', ls='-', lw=2)\n",
    "plot_audio(y_warped, sr, ax=axes[1])\n",
    "axes[1].vlines(points_to, -0.5, 0.5, color='blue', ls='-', lw=2)\n",
    "\n",
    "axes[1].set_xlim(1, 2.5);"
   ]
  },
  {
   "cell_type": "code",
   "execution_count": null,
   "id": "70d43e85",
   "metadata": {},
   "outputs": [],
   "source": [
    "def alignSwing(y_org, y_trg, sr, db_org, db_trg, hop_length=256):\n",
    "    points_org = getSwingPoints(y_org, sr, db_org, hop_length=hop_length)\n",
    "    points_trg = getSwingPoints(y_trg, sr, db_trg, hop_length=hop_length)\n",
    "    \n",
    "    map_ = getSwingMap(points_org, points_trg)\n",
    "    points_from, points_to = getSwingTimings(db_org, map_)\n",
    "    \n",
    "    y_warped = matchAudioEvents(y_org, sr, points_from, points_to, hq=True)\n",
    "    return y_warped"
   ]
  },
  {
   "cell_type": "markdown",
   "id": "da0a6508",
   "metadata": {},
   "source": [
    "## As Import "
   ]
  },
  {
   "cell_type": "code",
   "execution_count": null,
   "id": "a27c9fed",
   "metadata": {},
   "outputs": [],
   "source": [
    "from swing_align import alignSwing"
   ]
  },
  {
   "cell_type": "code",
   "execution_count": null,
   "id": "7494cc6b",
   "metadata": {},
   "outputs": [],
   "source": [
    "TRG = './PROCESSED/jazz_beat/'\n",
    "y_trg, sr = librosa.load(os.path.join(TRG, 'source.wav'), sr=44100)\n",
    "\n",
    "ORG = './PROCESSED/bowie_heroes/'\n",
    "y_org, _ = librosa.load(os.path.join(ORG, 'source.wav'), sr=sr)\n",
    "\n",
    "print('TARGET:')\n",
    "play(y_trg, sr)\n",
    "print('ORIGINAL:')\n",
    "play(y_org, sr)"
   ]
  },
  {
   "cell_type": "code",
   "execution_count": null,
   "id": "eb6693e9",
   "metadata": {},
   "outputs": [],
   "source": [
    "db_trg = findDownbeats(TRG)\n",
    "db_org = findDownbeats(ORG)"
   ]
  },
  {
   "cell_type": "code",
   "execution_count": null,
   "id": "25a741bd",
   "metadata": {},
   "outputs": [],
   "source": [
    "y_warped = alignSwing(y_org, y_trg, sr, db_org, db_trg)"
   ]
  },
  {
   "cell_type": "code",
   "execution_count": null,
   "id": "eb7df3d0",
   "metadata": {},
   "outputs": [],
   "source": [
    "play(y_warped, sr)"
   ]
  },
  {
   "cell_type": "code",
   "execution_count": null,
   "id": "f6d30283",
   "metadata": {},
   "outputs": [],
   "source": []
  },
  {
   "cell_type": "code",
   "execution_count": null,
   "id": "7871e716",
   "metadata": {},
   "outputs": [],
   "source": []
  },
  {
   "cell_type": "code",
   "execution_count": null,
   "id": "643dba58",
   "metadata": {},
   "outputs": [],
   "source": []
  },
  {
   "cell_type": "code",
   "execution_count": null,
   "id": "073092f5",
   "metadata": {},
   "outputs": [],
   "source": []
  }
 ],
 "metadata": {
  "kernelspec": {
   "display_name": "Python 3 (ipykernel)",
   "language": "python",
   "name": "python3"
  },
  "language_info": {
   "codemirror_mode": {
    "name": "ipython",
    "version": 3
   },
   "file_extension": ".py",
   "mimetype": "text/x-python",
   "name": "python",
   "nbconvert_exporter": "python",
   "pygments_lexer": "ipython3",
   "version": "3.9.10"
  }
 },
 "nbformat": 4,
 "nbformat_minor": 5
}
